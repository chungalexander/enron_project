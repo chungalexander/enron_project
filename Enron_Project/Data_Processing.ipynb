{
 "cells": [
  {
   "cell_type": "markdown",
   "metadata": {},
   "source": [
    "# Data Processing\n",
    "\n",
    "This notebook details the basic and advanced cleaning of the data. \n",
    "\n",
    "The data I am using is called the \"Enron Corpus,\" a collection of 500,000+ emails from the infamous investing firm that crashed in the early 2000s. \n",
    "\n",
    "You can find the data here: https://www.cs.cmu.edu/~./enron/"
   ]
  },
  {
   "cell_type": "markdown",
   "metadata": {},
   "source": [
    "### Description of data\n",
    "\n",
    "The csv file contains just one column with all the relevant data captured in a string. The relevant types of data include:\n",
    "\n",
    "* **Date:** Date email was sent \n",
    "* **From:** The email address of the sender \n",
    "* **To:** The email address of the receiver \n",
    "* **Message-Body:** The content within the email \n",
    "\n",
    "Other information includes CC, BCC, relevant filenames, and more. "
   ]
  },
  {
   "cell_type": "markdown",
   "metadata": {},
   "source": [
    "# Setup"
   ]
  },
  {
   "cell_type": "code",
   "execution_count": 1,
   "metadata": {},
   "outputs": [],
   "source": [
    "# Load timer\n",
    "%load_ext autotime"
   ]
  },
  {
   "cell_type": "code",
   "execution_count": 12,
   "metadata": {},
   "outputs": [
    {
     "name": "stdout",
     "output_type": "stream",
     "text": [
      "time: 1.36 s\n"
     ]
    }
   ],
   "source": [
    "# Import necessary libraries \n",
    "import pandas as pd\n",
    "from IPython.display import display\n",
    "import matplotlib.pyplot as plt\n",
    "import nltk\n",
    "from nltk.corpus import stopwords\n",
    "#nltk.download()\n",
    "import re\n",
    "\n",
    "\n",
    "# Turn off warnings\n",
    "import warnings \n",
    "warnings.simplefilter('ignore')"
   ]
  },
  {
   "cell_type": "code",
   "execution_count": 3,
   "metadata": {},
   "outputs": [
    {
     "name": "stdout",
     "output_type": "stream",
     "text": [
      "time: 11.1 s\n"
     ]
    }
   ],
   "source": [
    "# Read in csv file \n",
    "emails = pd.read_csv(\"emails.csv\")"
   ]
  },
  {
   "cell_type": "code",
   "execution_count": 4,
   "metadata": {},
   "outputs": [
    {
     "data": {
      "text/html": [
       "<div>\n",
       "<style scoped>\n",
       "    .dataframe tbody tr th:only-of-type {\n",
       "        vertical-align: middle;\n",
       "    }\n",
       "\n",
       "    .dataframe tbody tr th {\n",
       "        vertical-align: top;\n",
       "    }\n",
       "\n",
       "    .dataframe thead th {\n",
       "        text-align: right;\n",
       "    }\n",
       "</style>\n",
       "<table border=\"1\" class=\"dataframe\">\n",
       "  <thead>\n",
       "    <tr style=\"text-align: right;\">\n",
       "      <th></th>\n",
       "      <th>file</th>\n",
       "      <th>message</th>\n",
       "    </tr>\n",
       "  </thead>\n",
       "  <tbody>\n",
       "    <tr>\n",
       "      <th>0</th>\n",
       "      <td>allen-p/_sent_mail/1.</td>\n",
       "      <td>Message-ID: &lt;18782981.1075855378110.JavaMail.e...</td>\n",
       "    </tr>\n",
       "    <tr>\n",
       "      <th>1</th>\n",
       "      <td>allen-p/_sent_mail/10.</td>\n",
       "      <td>Message-ID: &lt;15464986.1075855378456.JavaMail.e...</td>\n",
       "    </tr>\n",
       "    <tr>\n",
       "      <th>2</th>\n",
       "      <td>allen-p/_sent_mail/100.</td>\n",
       "      <td>Message-ID: &lt;24216240.1075855687451.JavaMail.e...</td>\n",
       "    </tr>\n",
       "    <tr>\n",
       "      <th>3</th>\n",
       "      <td>allen-p/_sent_mail/1000.</td>\n",
       "      <td>Message-ID: &lt;13505866.1075863688222.JavaMail.e...</td>\n",
       "    </tr>\n",
       "    <tr>\n",
       "      <th>4</th>\n",
       "      <td>allen-p/_sent_mail/1001.</td>\n",
       "      <td>Message-ID: &lt;30922949.1075863688243.JavaMail.e...</td>\n",
       "    </tr>\n",
       "  </tbody>\n",
       "</table>\n",
       "</div>"
      ],
      "text/plain": [
       "                       file                                            message\n",
       "0     allen-p/_sent_mail/1.  Message-ID: <18782981.1075855378110.JavaMail.e...\n",
       "1    allen-p/_sent_mail/10.  Message-ID: <15464986.1075855378456.JavaMail.e...\n",
       "2   allen-p/_sent_mail/100.  Message-ID: <24216240.1075855687451.JavaMail.e...\n",
       "3  allen-p/_sent_mail/1000.  Message-ID: <13505866.1075863688222.JavaMail.e...\n",
       "4  allen-p/_sent_mail/1001.  Message-ID: <30922949.1075863688243.JavaMail.e..."
      ]
     },
     "execution_count": 4,
     "metadata": {},
     "output_type": "execute_result"
    },
    {
     "name": "stdout",
     "output_type": "stream",
     "text": [
      "time: 13.8 ms\n"
     ]
    }
   ],
   "source": [
    "# Preview the data\n",
    "emails.head()"
   ]
  },
  {
   "cell_type": "code",
   "execution_count": 5,
   "metadata": {},
   "outputs": [
    {
     "data": {
      "text/plain": [
       "(517401, 2)"
      ]
     },
     "execution_count": 5,
     "metadata": {},
     "output_type": "execute_result"
    },
    {
     "name": "stdout",
     "output_type": "stream",
     "text": [
      "time: 2.22 ms\n"
     ]
    }
   ],
   "source": [
    "# Get shape\n",
    "emails.shape"
   ]
  },
  {
   "cell_type": "markdown",
   "metadata": {},
   "source": [
    "# Basic Cleaning"
   ]
  },
  {
   "cell_type": "code",
   "execution_count": 6,
   "metadata": {},
   "outputs": [
    {
     "name": "stdout",
     "output_type": "stream",
     "text": [
      "time: 56.8 s\n"
     ]
    }
   ],
   "source": [
    "# Slice data at relevant position and create a new column in data frame\n",
    "emails['Date'] = emails.message.str.split(\"\\n\").str[1].str[6:]\n",
    "emails['From'] = emails.message.str.split(\"\\n\").str[2].str[6:]\n",
    "emails['To'] = emails.message.str.split(\"\\n\").str[3].str[4:]\n",
    "emails['Subject'] = emails.message.str.split(\"\\n\").str[4].str[9:]\n",
    "emails['Message-Body'] = emails.message.str.split('\\n').str[16:].str.join('')"
   ]
  },
  {
   "cell_type": "code",
   "execution_count": 8,
   "metadata": {},
   "outputs": [
    {
     "name": "stdout",
     "output_type": "stream",
     "text": [
      "time: 1min 29s\n"
     ]
    }
   ],
   "source": [
    "# Create new dataframe and convert to datetime format\n",
    "emails_cleaned = emails[['Date', 'From', 'To', 'Subject', 'Message-Body']]\n",
    "emails_cleaned['Date'] = pd.to_datetime(emails_cleaned['Date']).dt.date"
   ]
  },
  {
   "cell_type": "code",
   "execution_count": 9,
   "metadata": {},
   "outputs": [
    {
     "data": {
      "text/html": [
       "<div>\n",
       "<style scoped>\n",
       "    .dataframe tbody tr th:only-of-type {\n",
       "        vertical-align: middle;\n",
       "    }\n",
       "\n",
       "    .dataframe tbody tr th {\n",
       "        vertical-align: top;\n",
       "    }\n",
       "\n",
       "    .dataframe thead th {\n",
       "        text-align: right;\n",
       "    }\n",
       "</style>\n",
       "<table border=\"1\" class=\"dataframe\">\n",
       "  <thead>\n",
       "    <tr style=\"text-align: right;\">\n",
       "      <th></th>\n",
       "      <th>Date</th>\n",
       "      <th>From</th>\n",
       "      <th>To</th>\n",
       "      <th>Subject</th>\n",
       "      <th>Message-Body</th>\n",
       "    </tr>\n",
       "  </thead>\n",
       "  <tbody>\n",
       "    <tr>\n",
       "      <th>0</th>\n",
       "      <td>2001-05-14</td>\n",
       "      <td>phillip.allen@enron.com</td>\n",
       "      <td>tim.belden@enron.com</td>\n",
       "      <td></td>\n",
       "      <td>Here is our forecast</td>\n",
       "    </tr>\n",
       "    <tr>\n",
       "      <th>1</th>\n",
       "      <td>2001-05-04</td>\n",
       "      <td>phillip.allen@enron.com</td>\n",
       "      <td>john.lavorato@enron.com</td>\n",
       "      <td>Re:</td>\n",
       "      <td>Traveling to have a business meeting takes the...</td>\n",
       "    </tr>\n",
       "    <tr>\n",
       "      <th>2</th>\n",
       "      <td>2000-10-18</td>\n",
       "      <td>phillip.allen@enron.com</td>\n",
       "      <td>leah.arsdall@enron.com</td>\n",
       "      <td>Re: test</td>\n",
       "      <td>test successful.  way to go!!!</td>\n",
       "    </tr>\n",
       "    <tr>\n",
       "      <th>3</th>\n",
       "      <td>2000-10-23</td>\n",
       "      <td>phillip.allen@enron.com</td>\n",
       "      <td>randall.gay@enron.com</td>\n",
       "      <td></td>\n",
       "      <td>Randy, Can you send me a schedule of the salar...</td>\n",
       "    </tr>\n",
       "    <tr>\n",
       "      <th>4</th>\n",
       "      <td>2000-08-31</td>\n",
       "      <td>phillip.allen@enron.com</td>\n",
       "      <td>greg.piper@enron.com</td>\n",
       "      <td>Re: Hello</td>\n",
       "      <td>Let's shoot for Tuesday at 11:45.</td>\n",
       "    </tr>\n",
       "  </tbody>\n",
       "</table>\n",
       "</div>"
      ],
      "text/plain": [
       "         Date                     From                       To    Subject  \\\n",
       "0  2001-05-14  phillip.allen@enron.com     tim.belden@enron.com              \n",
       "1  2001-05-04  phillip.allen@enron.com  john.lavorato@enron.com        Re:   \n",
       "2  2000-10-18  phillip.allen@enron.com   leah.arsdall@enron.com   Re: test   \n",
       "3  2000-10-23  phillip.allen@enron.com    randall.gay@enron.com              \n",
       "4  2000-08-31  phillip.allen@enron.com     greg.piper@enron.com  Re: Hello   \n",
       "\n",
       "                                        Message-Body  \n",
       "0                              Here is our forecast   \n",
       "1  Traveling to have a business meeting takes the...  \n",
       "2                     test successful.  way to go!!!  \n",
       "3  Randy, Can you send me a schedule of the salar...  \n",
       "4                Let's shoot for Tuesday at 11:45.    "
      ]
     },
     "execution_count": 9,
     "metadata": {},
     "output_type": "execute_result"
    },
    {
     "name": "stdout",
     "output_type": "stream",
     "text": [
      "time: 13.6 ms\n"
     ]
    }
   ],
   "source": [
    "# Preview \n",
    "emails_cleaned.head()"
   ]
  },
  {
   "cell_type": "code",
   "execution_count": 11,
   "metadata": {},
   "outputs": [
    {
     "data": {
      "text/plain": [
       "(517401, 5)"
      ]
     },
     "execution_count": 11,
     "metadata": {},
     "output_type": "execute_result"
    },
    {
     "name": "stdout",
     "output_type": "stream",
     "text": [
      "time: 2.32 ms\n"
     ]
    }
   ],
   "source": [
    "# Get shape\n",
    "emails_cleaned.shape"
   ]
  },
  {
   "cell_type": "code",
   "execution_count": 10,
   "metadata": {},
   "outputs": [
    {
     "name": "stdout",
     "output_type": "stream",
     "text": [
      "time: 23.4 s\n"
     ]
    }
   ],
   "source": [
    "# Write to csv as checkpoint\n",
    "# emails_cleaned.to_csv('emails_v1.csv')"
   ]
  },
  {
   "cell_type": "code",
   "execution_count": 13,
   "metadata": {},
   "outputs": [
    {
     "name": "stdout",
     "output_type": "stream",
     "text": [
      "time: 303 ms\n"
     ]
    }
   ],
   "source": [
    "# Drop unecessary columns\n",
    "try:\n",
    "    emails_cleaned = emails_cleaned.drop(['To', 'Subject'], axis=1)\n",
    "except:\n",
    "    pass"
   ]
  },
  {
   "cell_type": "markdown",
   "metadata": {},
   "source": [
    "# Process Email Messages"
   ]
  },
  {
   "cell_type": "code",
   "execution_count": 14,
   "metadata": {},
   "outputs": [
    {
     "data": {
      "text/html": [
       "<div>\n",
       "<style scoped>\n",
       "    .dataframe tbody tr th:only-of-type {\n",
       "        vertical-align: middle;\n",
       "    }\n",
       "\n",
       "    .dataframe tbody tr th {\n",
       "        vertical-align: top;\n",
       "    }\n",
       "\n",
       "    .dataframe thead th {\n",
       "        text-align: right;\n",
       "    }\n",
       "</style>\n",
       "<table border=\"1\" class=\"dataframe\">\n",
       "  <thead>\n",
       "    <tr style=\"text-align: right;\">\n",
       "      <th></th>\n",
       "      <th>Date</th>\n",
       "      <th>From</th>\n",
       "      <th>Message-Body</th>\n",
       "    </tr>\n",
       "  </thead>\n",
       "  <tbody>\n",
       "    <tr>\n",
       "      <th>0</th>\n",
       "      <td>2001-05-14</td>\n",
       "      <td>phillip.allen@enron.com</td>\n",
       "      <td>Here is our forecast</td>\n",
       "    </tr>\n",
       "    <tr>\n",
       "      <th>1</th>\n",
       "      <td>2001-05-04</td>\n",
       "      <td>phillip.allen@enron.com</td>\n",
       "      <td>Traveling to have a business meeting takes the...</td>\n",
       "    </tr>\n",
       "    <tr>\n",
       "      <th>2</th>\n",
       "      <td>2000-10-18</td>\n",
       "      <td>phillip.allen@enron.com</td>\n",
       "      <td>test successful.  way to go!!!</td>\n",
       "    </tr>\n",
       "    <tr>\n",
       "      <th>3</th>\n",
       "      <td>2000-10-23</td>\n",
       "      <td>phillip.allen@enron.com</td>\n",
       "      <td>Randy, Can you send me a schedule of the salar...</td>\n",
       "    </tr>\n",
       "    <tr>\n",
       "      <th>4</th>\n",
       "      <td>2000-08-31</td>\n",
       "      <td>phillip.allen@enron.com</td>\n",
       "      <td>Let's shoot for Tuesday at 11:45.</td>\n",
       "    </tr>\n",
       "  </tbody>\n",
       "</table>\n",
       "</div>"
      ],
      "text/plain": [
       "         Date                     From  \\\n",
       "0  2001-05-14  phillip.allen@enron.com   \n",
       "1  2001-05-04  phillip.allen@enron.com   \n",
       "2  2000-10-18  phillip.allen@enron.com   \n",
       "3  2000-10-23  phillip.allen@enron.com   \n",
       "4  2000-08-31  phillip.allen@enron.com   \n",
       "\n",
       "                                        Message-Body  \n",
       "0                              Here is our forecast   \n",
       "1  Traveling to have a business meeting takes the...  \n",
       "2                     test successful.  way to go!!!  \n",
       "3  Randy, Can you send me a schedule of the salar...  \n",
       "4                Let's shoot for Tuesday at 11:45.    "
      ]
     },
     "execution_count": 14,
     "metadata": {},
     "output_type": "execute_result"
    },
    {
     "name": "stdout",
     "output_type": "stream",
     "text": [
      "time: 1.84 s\n"
     ]
    }
   ],
   "source": [
    "# Function to clear out junk keywords and only save original emails\n",
    "\n",
    "bad_keywords = ['X-cc:', 'Outlook Migration Team@', 'X-FileName:', 'X-Origin:', 'X-Folder:', 'X-To: ', 'X-bcc:' ]\n",
    "def clean_startswith(df, keyword):\n",
    "    df = df[ df['Message-Body'].str[0:len(keyword)] != keyword ]\n",
    "    return df\n",
    "\n",
    "# Execute funtion\n",
    "original_emails = emails_cleaned.copy()\n",
    "\n",
    "for keyword in bad_keywords:\n",
    "    original_emails = clean_startswith(original_emails, keyword)\n",
    "\n",
    "original_emails.head()"
   ]
  },
  {
   "cell_type": "code",
   "execution_count": 15,
   "metadata": {},
   "outputs": [
    {
     "data": {
      "text/plain": [
       "(393753, 3)"
      ]
     },
     "execution_count": 15,
     "metadata": {},
     "output_type": "execute_result"
    },
    {
     "name": "stdout",
     "output_type": "stream",
     "text": [
      "time: 2.43 ms\n"
     ]
    }
   ],
   "source": [
    "# Preview \n",
    "original_emails.shape"
   ]
  },
  {
   "cell_type": "code",
   "execution_count": 17,
   "metadata": {},
   "outputs": [
    {
     "name": "stdout",
     "output_type": "stream",
     "text": [
      "time: 2.32 s\n"
     ]
    }
   ],
   "source": [
    "# Get rid of additional messages that are forwarded\n",
    "original_emails['Message-Body'] = original_emails['Message-Body'].str.split('----').str[0]"
   ]
  },
  {
   "cell_type": "code",
   "execution_count": 18,
   "metadata": {},
   "outputs": [
    {
     "data": {
      "text/html": [
       "<div>\n",
       "<style scoped>\n",
       "    .dataframe tbody tr th:only-of-type {\n",
       "        vertical-align: middle;\n",
       "    }\n",
       "\n",
       "    .dataframe tbody tr th {\n",
       "        vertical-align: top;\n",
       "    }\n",
       "\n",
       "    .dataframe thead th {\n",
       "        text-align: right;\n",
       "    }\n",
       "</style>\n",
       "<table border=\"1\" class=\"dataframe\">\n",
       "  <thead>\n",
       "    <tr style=\"text-align: right;\">\n",
       "      <th></th>\n",
       "      <th>Date</th>\n",
       "      <th>From</th>\n",
       "      <th>Message-Body</th>\n",
       "      <th>Verbosity</th>\n",
       "    </tr>\n",
       "  </thead>\n",
       "  <tbody>\n",
       "    <tr>\n",
       "      <th>0</th>\n",
       "      <td>2001-05-14</td>\n",
       "      <td>phillip.allen@enron.com</td>\n",
       "      <td>Here is our forecast</td>\n",
       "      <td>4</td>\n",
       "    </tr>\n",
       "    <tr>\n",
       "      <th>1</th>\n",
       "      <td>2001-05-04</td>\n",
       "      <td>phillip.allen@enron.com</td>\n",
       "      <td>Traveling to have a business meeting takes the...</td>\n",
       "      <td>146</td>\n",
       "    </tr>\n",
       "    <tr>\n",
       "      <th>2</th>\n",
       "      <td>2000-10-18</td>\n",
       "      <td>phillip.allen@enron.com</td>\n",
       "      <td>test successful.  way to go!!!</td>\n",
       "      <td>5</td>\n",
       "    </tr>\n",
       "    <tr>\n",
       "      <th>3</th>\n",
       "      <td>2000-10-23</td>\n",
       "      <td>phillip.allen@enron.com</td>\n",
       "      <td>Randy, Can you send me a schedule of the salar...</td>\n",
       "      <td>34</td>\n",
       "    </tr>\n",
       "    <tr>\n",
       "      <th>4</th>\n",
       "      <td>2000-08-31</td>\n",
       "      <td>phillip.allen@enron.com</td>\n",
       "      <td>Let's shoot for Tuesday at 11:45.</td>\n",
       "      <td>7</td>\n",
       "    </tr>\n",
       "  </tbody>\n",
       "</table>\n",
       "</div>"
      ],
      "text/plain": [
       "         Date                     From  \\\n",
       "0  2001-05-14  phillip.allen@enron.com   \n",
       "1  2001-05-04  phillip.allen@enron.com   \n",
       "2  2000-10-18  phillip.allen@enron.com   \n",
       "3  2000-10-23  phillip.allen@enron.com   \n",
       "4  2000-08-31  phillip.allen@enron.com   \n",
       "\n",
       "                                        Message-Body  Verbosity  \n",
       "0                              Here is our forecast           4  \n",
       "1  Traveling to have a business meeting takes the...        146  \n",
       "2                     test successful.  way to go!!!          5  \n",
       "3  Randy, Can you send me a schedule of the salar...         34  \n",
       "4                Let's shoot for Tuesday at 11:45.            7  "
      ]
     },
     "execution_count": 18,
     "metadata": {},
     "output_type": "execute_result"
    },
    {
     "name": "stdout",
     "output_type": "stream",
     "text": [
      "time: 4.56 s\n"
     ]
    }
   ],
   "source": [
    "# Calculate the length of each email \n",
    "original_emails['Verbosity'] = original_emails['Message-Body'].str.count(' ')\n",
    "\n",
    "original_emails.head()"
   ]
  },
  {
   "cell_type": "code",
   "execution_count": 20,
   "metadata": {
    "scrolled": true
   },
   "outputs": [
    {
     "data": {
      "text/html": [
       "<div>\n",
       "<style scoped>\n",
       "    .dataframe tbody tr th:only-of-type {\n",
       "        vertical-align: middle;\n",
       "    }\n",
       "\n",
       "    .dataframe tbody tr th {\n",
       "        vertical-align: top;\n",
       "    }\n",
       "\n",
       "    .dataframe thead th {\n",
       "        text-align: right;\n",
       "    }\n",
       "</style>\n",
       "<table border=\"1\" class=\"dataframe\">\n",
       "  <thead>\n",
       "    <tr style=\"text-align: right;\">\n",
       "      <th></th>\n",
       "      <th>Date</th>\n",
       "      <th>From</th>\n",
       "      <th>Message-Body</th>\n",
       "      <th>Verbosity</th>\n",
       "    </tr>\n",
       "  </thead>\n",
       "  <tbody>\n",
       "    <tr>\n",
       "      <th>485284</th>\n",
       "      <td>1999-07-23</td>\n",
       "      <td>mark.taylor@enron.com</td>\n",
       "      <td>&gt;&gt; Day 752&gt;&gt; My captors continue to taunt me w...</td>\n",
       "      <td>399</td>\n",
       "    </tr>\n",
       "    <tr>\n",
       "      <th>30261</th>\n",
       "      <td>2000-12-07</td>\n",
       "      <td>nicki.daw@enron.com</td>\n",
       "      <td>\\tshawn.cumberland@enron.com, dan.leff@enron.c...</td>\n",
       "      <td>399</td>\n",
       "    </tr>\n",
       "    <tr>\n",
       "      <th>386610</th>\n",
       "      <td>2001-08-27</td>\n",
       "      <td>ipayit@enron.com</td>\n",
       "      <td>\\tsally.mcadams@enron.com, michael.desbiens@en...</td>\n",
       "      <td>399</td>\n",
       "    </tr>\n",
       "    <tr>\n",
       "      <th>394863</th>\n",
       "      <td>2000-09-20</td>\n",
       "      <td>richard.sanders@enron.com</td>\n",
       "      <td>Lunch as you proposed sounds good. Thanks in a...</td>\n",
       "      <td>399</td>\n",
       "    </tr>\n",
       "    <tr>\n",
       "      <th>111022</th>\n",
       "      <td>2000-03-06</td>\n",
       "      <td>daren.farmer@enron.com</td>\n",
       "      <td>Hey Ken,Sorry it has taken so long to get back...</td>\n",
       "      <td>399</td>\n",
       "    </tr>\n",
       "    <tr>\n",
       "      <th>398273</th>\n",
       "      <td>2001-06-11</td>\n",
       "      <td>richard.sanders@enron.com</td>\n",
       "      <td>Disregard my previous messageabout this case. ...</td>\n",
       "      <td>399</td>\n",
       "    </tr>\n",
       "    <tr>\n",
       "      <th>453198</th>\n",
       "      <td>2000-07-22</td>\n",
       "      <td>carol.clair@enron.com</td>\n",
       "      <td>Rod:Thanks for the info.  Our family doctor ha...</td>\n",
       "      <td>399</td>\n",
       "    </tr>\n",
       "    <tr>\n",
       "      <th>69827</th>\n",
       "      <td>2001-09-25</td>\n",
       "      <td>ginger.dernehl@enron.com</td>\n",
       "      <td>\\tjanel.guerrero@enron.com, allison.hamilton@e...</td>\n",
       "      <td>399</td>\n",
       "    </tr>\n",
       "    <tr>\n",
       "      <th>101574</th>\n",
       "      <td>2000-03-06</td>\n",
       "      <td>daren.farmer@enron.com</td>\n",
       "      <td>Hey Ken,Sorry it has taken so long to get back...</td>\n",
       "      <td>399</td>\n",
       "    </tr>\n",
       "    <tr>\n",
       "      <th>393737</th>\n",
       "      <td>2001-06-11</td>\n",
       "      <td>richard.sanders@enron.com</td>\n",
       "      <td>Disregard my previous messageabout this case. ...</td>\n",
       "      <td>399</td>\n",
       "    </tr>\n",
       "    <tr>\n",
       "      <th>182690</th>\n",
       "      <td>2000-06-22</td>\n",
       "      <td>connie.sutton@enron.com</td>\n",
       "      <td>\\tjohn.nowlan@enron.com, kimberlee.bennick@enr...</td>\n",
       "      <td>399</td>\n",
       "    </tr>\n",
       "    <tr>\n",
       "      <th>356835</th>\n",
       "      <td>2001-12-14</td>\n",
       "      <td>no.address@enron.com</td>\n",
       "      <td>\\ttammy.gilmore@enron.com, bruce.golden@enron....</td>\n",
       "      <td>399</td>\n",
       "    </tr>\n",
       "    <tr>\n",
       "      <th>100234</th>\n",
       "      <td>2000-08-11</td>\n",
       "      <td>robert.cotten@enron.com</td>\n",
       "      <td>\\tvance.taylor@enron.com, tom.acton@enron.com,...</td>\n",
       "      <td>399</td>\n",
       "    </tr>\n",
       "    <tr>\n",
       "      <th>64490</th>\n",
       "      <td>2000-12-13</td>\n",
       "      <td>susan.mara@enron.com</td>\n",
       "      <td>\\trwhyde@duke-energy.com, sgovenar@govadv.com,...</td>\n",
       "      <td>399</td>\n",
       "    </tr>\n",
       "    <tr>\n",
       "      <th>19202</th>\n",
       "      <td>2001-09-18</td>\n",
       "      <td>donna.fulton@enron.com</td>\n",
       "      <td>Cc: susan.lindberg@enron.com, l..nicolay@enron...</td>\n",
       "      <td>399</td>\n",
       "    </tr>\n",
       "    <tr>\n",
       "      <th>250658</th>\n",
       "      <td>2001-10-18</td>\n",
       "      <td>ray.alvarez@enron.com</td>\n",
       "      <td>Subject: Conference Call Today with FERC Staff...</td>\n",
       "      <td>399</td>\n",
       "    </tr>\n",
       "    <tr>\n",
       "      <th>43238</th>\n",
       "      <td>2000-11-10</td>\n",
       "      <td>anne.labbe@enron.com</td>\n",
       "      <td>\\tchris.dorland@enron.com, tom.dutta@enron.com...</td>\n",
       "      <td>399</td>\n",
       "    </tr>\n",
       "    <tr>\n",
       "      <th>329192</th>\n",
       "      <td>2000-09-11</td>\n",
       "      <td>marla.barnard@enron.com</td>\n",
       "      <td>Please put this on my calendar and find out wh...</td>\n",
       "      <td>399</td>\n",
       "    </tr>\n",
       "    <tr>\n",
       "      <th>107628</th>\n",
       "      <td>2000-03-06</td>\n",
       "      <td>daren.farmer@enron.com</td>\n",
       "      <td>Hey Ken,Sorry it has taken so long to get back...</td>\n",
       "      <td>399</td>\n",
       "    </tr>\n",
       "    <tr>\n",
       "      <th>325299</th>\n",
       "      <td>2001-09-27</td>\n",
       "      <td>louise.kitchen@enron.com</td>\n",
       "      <td>\\tgeoff.storey@enron.com, ben.jacoby@enron.com...</td>\n",
       "      <td>399</td>\n",
       "    </tr>\n",
       "    <tr>\n",
       "      <th>34292</th>\n",
       "      <td>2001-07-20</td>\n",
       "      <td>alma.green@enron.com</td>\n",
       "      <td>\\tlanny.cramer@enron.com, esther.dasilva@enron...</td>\n",
       "      <td>399</td>\n",
       "    </tr>\n",
       "    <tr>\n",
       "      <th>194085</th>\n",
       "      <td>2000-06-22</td>\n",
       "      <td>connie.sutton@enron.com</td>\n",
       "      <td>\\tjohn.nowlan@enron.com, kimberlee.bennick@enr...</td>\n",
       "      <td>399</td>\n",
       "    </tr>\n",
       "    <tr>\n",
       "      <th>37270</th>\n",
       "      <td>2001-09-27</td>\n",
       "      <td>louise.kitchen@enron.com</td>\n",
       "      <td>\\tgeoff.storey@enron.com, ben.jacoby@enron.com...</td>\n",
       "      <td>399</td>\n",
       "    </tr>\n",
       "    <tr>\n",
       "      <th>45317</th>\n",
       "      <td>2000-11-10</td>\n",
       "      <td>anne.labbe@enron.com</td>\n",
       "      <td>\\tchris.dorland@enron.com, tom.dutta@enron.com...</td>\n",
       "      <td>399</td>\n",
       "    </tr>\n",
       "    <tr>\n",
       "      <th>385117</th>\n",
       "      <td>2000-11-14</td>\n",
       "      <td>elizabeth.sager@enron.com</td>\n",
       "      <td>Peter, just a follow-up to your email.1.  I wo...</td>\n",
       "      <td>399</td>\n",
       "    </tr>\n",
       "    <tr>\n",
       "      <th>400348</th>\n",
       "      <td>2002-01-23</td>\n",
       "      <td>stephanie.panus@enron.com</td>\n",
       "      <td>\\tmark.fondren@enron.com, vladimir.gorny@enron...</td>\n",
       "      <td>399</td>\n",
       "    </tr>\n",
       "    <tr>\n",
       "      <th>323494</th>\n",
       "      <td>2001-09-27</td>\n",
       "      <td>louise.kitchen@enron.com</td>\n",
       "      <td>\\tgeoff.storey@enron.com, ben.jacoby@enron.com...</td>\n",
       "      <td>399</td>\n",
       "    </tr>\n",
       "    <tr>\n",
       "      <th>388526</th>\n",
       "      <td>2000-11-14</td>\n",
       "      <td>elizabeth.sager@enron.com</td>\n",
       "      <td>Peter, just a follow-up to your email.1.  I wo...</td>\n",
       "      <td>399</td>\n",
       "    </tr>\n",
       "    <tr>\n",
       "      <th>451706</th>\n",
       "      <td>2000-07-22</td>\n",
       "      <td>carol.clair@enron.com</td>\n",
       "      <td>Rod:Thanks for the info.  Our family doctor ha...</td>\n",
       "      <td>399</td>\n",
       "    </tr>\n",
       "    <tr>\n",
       "      <th>113411</th>\n",
       "      <td>2001-10-22</td>\n",
       "      <td>patrick.cagney@enron.com</td>\n",
       "      <td>When you do, take these three steps which will...</td>\n",
       "      <td>399</td>\n",
       "    </tr>\n",
       "    <tr>\n",
       "      <th>...</th>\n",
       "      <td>...</td>\n",
       "      <td>...</td>\n",
       "      <td>...</td>\n",
       "      <td>...</td>\n",
       "    </tr>\n",
       "    <tr>\n",
       "      <th>49823</th>\n",
       "      <td>2001-08-14</td>\n",
       "      <td>michelle.cash@enron.com</td>\n",
       "      <td>FYI</td>\n",
       "      <td>1</td>\n",
       "    </tr>\n",
       "    <tr>\n",
       "      <th>69937</th>\n",
       "      <td>2001-10-01</td>\n",
       "      <td>susan.mara@enron.com</td>\n",
       "      <td>Enron stuff</td>\n",
       "      <td>1</td>\n",
       "    </tr>\n",
       "    <tr>\n",
       "      <th>275759</th>\n",
       "      <td>2001-05-04</td>\n",
       "      <td>matthew.lenhart@enron.com</td>\n",
       "      <td>totally</td>\n",
       "      <td>1</td>\n",
       "    </tr>\n",
       "    <tr>\n",
       "      <th>369267</th>\n",
       "      <td>2001-10-31</td>\n",
       "      <td>torrey.moorer@enron.com</td>\n",
       "      <td>fyi...</td>\n",
       "      <td>1</td>\n",
       "    </tr>\n",
       "    <tr>\n",
       "      <th>137745</th>\n",
       "      <td>2002-01-14</td>\n",
       "      <td>laura.luce@enron.com</td>\n",
       "      <td>Thanx...Laura</td>\n",
       "      <td>1</td>\n",
       "    </tr>\n",
       "    <tr>\n",
       "      <th>433290</th>\n",
       "      <td>2001-01-31</td>\n",
       "      <td>jeffrey.shankman@enron.com</td>\n",
       "      <td>please print</td>\n",
       "      <td>1</td>\n",
       "    </tr>\n",
       "    <tr>\n",
       "      <th>178641</th>\n",
       "      <td>2001-03-28</td>\n",
       "      <td>dan.hyvl@enron.com</td>\n",
       "      <td>4105SF</td>\n",
       "      <td>1</td>\n",
       "    </tr>\n",
       "    <tr>\n",
       "      <th>103894</th>\n",
       "      <td>2001-06-07</td>\n",
       "      <td>victor.lamadrid@enron.com</td>\n",
       "      <td>fyi</td>\n",
       "      <td>1</td>\n",
       "    </tr>\n",
       "    <tr>\n",
       "      <th>70029</th>\n",
       "      <td>2001-10-05</td>\n",
       "      <td>stephanie.miller@enron.com</td>\n",
       "      <td>Thanks!</td>\n",
       "      <td>1</td>\n",
       "    </tr>\n",
       "    <tr>\n",
       "      <th>20455</th>\n",
       "      <td>2002-01-03</td>\n",
       "      <td>don.baughman@enron.com</td>\n",
       "      <td>dbaughm</td>\n",
       "      <td>1</td>\n",
       "    </tr>\n",
       "    <tr>\n",
       "      <th>431129</th>\n",
       "      <td>2000-11-29</td>\n",
       "      <td>jeffrey.shankman@enron.com</td>\n",
       "      <td>please print</td>\n",
       "      <td>1</td>\n",
       "    </tr>\n",
       "    <tr>\n",
       "      <th>20446</th>\n",
       "      <td>2002-01-15</td>\n",
       "      <td>don.baughman@enron.com</td>\n",
       "      <td>WOW!</td>\n",
       "      <td>1</td>\n",
       "    </tr>\n",
       "    <tr>\n",
       "      <th>49848</th>\n",
       "      <td>2001-08-24</td>\n",
       "      <td>michelle.cash@enron.com</td>\n",
       "      <td>Thanks!!</td>\n",
       "      <td>1</td>\n",
       "    </tr>\n",
       "    <tr>\n",
       "      <th>39558</th>\n",
       "      <td>2001-04-09</td>\n",
       "      <td>rick.buy@enron.com</td>\n",
       "      <td>fyi,rick</td>\n",
       "      <td>1</td>\n",
       "    </tr>\n",
       "    <tr>\n",
       "      <th>230913</th>\n",
       "      <td>2001-01-18</td>\n",
       "      <td>steven.kean@enron.com</td>\n",
       "      <td>Any instructions?</td>\n",
       "      <td>1</td>\n",
       "    </tr>\n",
       "    <tr>\n",
       "      <th>20359</th>\n",
       "      <td>2001-07-18</td>\n",
       "      <td>lloyd.will@enron.com</td>\n",
       "      <td>fyi</td>\n",
       "      <td>1</td>\n",
       "    </tr>\n",
       "    <tr>\n",
       "      <th>449719</th>\n",
       "      <td>2001-10-24</td>\n",
       "      <td>valerie.vela@enron.com</td>\n",
       "      <td>Yeah!!!!</td>\n",
       "      <td>1</td>\n",
       "    </tr>\n",
       "    <tr>\n",
       "      <th>20408</th>\n",
       "      <td>2002-02-04</td>\n",
       "      <td>don.baughman@enron.com</td>\n",
       "      <td>unsubscribe don.baughman@enron.com</td>\n",
       "      <td>1</td>\n",
       "    </tr>\n",
       "    <tr>\n",
       "      <th>230939</th>\n",
       "      <td>2001-01-16</td>\n",
       "      <td>simon.shih@enron.com</td>\n",
       "      <td>This OrderAgenda01020304</td>\n",
       "      <td>1</td>\n",
       "    </tr>\n",
       "    <tr>\n",
       "      <th>259078</th>\n",
       "      <td>2002-02-05</td>\n",
       "      <td>s..bradford@enron.com</td>\n",
       "      <td>Bill</td>\n",
       "      <td>1</td>\n",
       "    </tr>\n",
       "    <tr>\n",
       "      <th>275756</th>\n",
       "      <td>2001-05-03</td>\n",
       "      <td>matthew.lenhart@enron.com</td>\n",
       "      <td>rohan davey</td>\n",
       "      <td>1</td>\n",
       "    </tr>\n",
       "    <tr>\n",
       "      <th>79003</th>\n",
       "      <td>2001-10-01</td>\n",
       "      <td>jeff.dasovich@enron.com</td>\n",
       "      <td>Go Barry!</td>\n",
       "      <td>1</td>\n",
       "    </tr>\n",
       "    <tr>\n",
       "      <th>309787</th>\n",
       "      <td>2001-06-07</td>\n",
       "      <td>kay.mann@enron.com</td>\n",
       "      <td>please calendar.</td>\n",
       "      <td>1</td>\n",
       "    </tr>\n",
       "    <tr>\n",
       "      <th>230949</th>\n",
       "      <td>2001-01-14</td>\n",
       "      <td>steven.kean@enron.com</td>\n",
       "      <td>california update</td>\n",
       "      <td>1</td>\n",
       "    </tr>\n",
       "    <tr>\n",
       "      <th>279623</th>\n",
       "      <td>2001-05-04</td>\n",
       "      <td>matthew.lenhart@enron.com</td>\n",
       "      <td>totally</td>\n",
       "      <td>1</td>\n",
       "    </tr>\n",
       "    <tr>\n",
       "      <th>279620</th>\n",
       "      <td>2001-05-03</td>\n",
       "      <td>matthew.lenhart@enron.com</td>\n",
       "      <td>rohan davey</td>\n",
       "      <td>1</td>\n",
       "    </tr>\n",
       "    <tr>\n",
       "      <th>326278</th>\n",
       "      <td>2001-02-16</td>\n",
       "      <td>mike.mcconnell@enron.com</td>\n",
       "      <td>Dan Reck</td>\n",
       "      <td>1</td>\n",
       "    </tr>\n",
       "    <tr>\n",
       "      <th>178702</th>\n",
       "      <td>2001-04-12</td>\n",
       "      <td>dan.hyvl@enron.com</td>\n",
       "      <td>Got it.</td>\n",
       "      <td>1</td>\n",
       "    </tr>\n",
       "    <tr>\n",
       "      <th>335660</th>\n",
       "      <td>2000-10-15</td>\n",
       "      <td>errol.mclaughlin@enron.com</td>\n",
       "      <td>I'm there.</td>\n",
       "      <td>1</td>\n",
       "    </tr>\n",
       "    <tr>\n",
       "      <th>406062</th>\n",
       "      <td>2002-02-12</td>\n",
       "      <td>larry.may@enron.com</td>\n",
       "      <td>yes</td>\n",
       "      <td>1</td>\n",
       "    </tr>\n",
       "  </tbody>\n",
       "</table>\n",
       "<p>254377 rows × 4 columns</p>\n",
       "</div>"
      ],
      "text/plain": [
       "              Date                        From  \\\n",
       "485284  1999-07-23       mark.taylor@enron.com   \n",
       "30261   2000-12-07         nicki.daw@enron.com   \n",
       "386610  2001-08-27            ipayit@enron.com   \n",
       "394863  2000-09-20   richard.sanders@enron.com   \n",
       "111022  2000-03-06      daren.farmer@enron.com   \n",
       "398273  2001-06-11   richard.sanders@enron.com   \n",
       "453198  2000-07-22       carol.clair@enron.com   \n",
       "69827   2001-09-25    ginger.dernehl@enron.com   \n",
       "101574  2000-03-06      daren.farmer@enron.com   \n",
       "393737  2001-06-11   richard.sanders@enron.com   \n",
       "182690  2000-06-22     connie.sutton@enron.com   \n",
       "356835  2001-12-14        no.address@enron.com   \n",
       "100234  2000-08-11     robert.cotten@enron.com   \n",
       "64490   2000-12-13        susan.mara@enron.com   \n",
       "19202   2001-09-18      donna.fulton@enron.com   \n",
       "250658  2001-10-18       ray.alvarez@enron.com   \n",
       "43238   2000-11-10        anne.labbe@enron.com   \n",
       "329192  2000-09-11     marla.barnard@enron.com   \n",
       "107628  2000-03-06      daren.farmer@enron.com   \n",
       "325299  2001-09-27    louise.kitchen@enron.com   \n",
       "34292   2001-07-20        alma.green@enron.com   \n",
       "194085  2000-06-22     connie.sutton@enron.com   \n",
       "37270   2001-09-27    louise.kitchen@enron.com   \n",
       "45317   2000-11-10        anne.labbe@enron.com   \n",
       "385117  2000-11-14   elizabeth.sager@enron.com   \n",
       "400348  2002-01-23   stephanie.panus@enron.com   \n",
       "323494  2001-09-27    louise.kitchen@enron.com   \n",
       "388526  2000-11-14   elizabeth.sager@enron.com   \n",
       "451706  2000-07-22       carol.clair@enron.com   \n",
       "113411  2001-10-22    patrick.cagney@enron.com   \n",
       "...            ...                         ...   \n",
       "49823   2001-08-14     michelle.cash@enron.com   \n",
       "69937   2001-10-01        susan.mara@enron.com   \n",
       "275759  2001-05-04   matthew.lenhart@enron.com   \n",
       "369267  2001-10-31     torrey.moorer@enron.com   \n",
       "137745  2002-01-14        laura.luce@enron.com   \n",
       "433290  2001-01-31  jeffrey.shankman@enron.com   \n",
       "178641  2001-03-28          dan.hyvl@enron.com   \n",
       "103894  2001-06-07   victor.lamadrid@enron.com   \n",
       "70029   2001-10-05  stephanie.miller@enron.com   \n",
       "20455   2002-01-03      don.baughman@enron.com   \n",
       "431129  2000-11-29  jeffrey.shankman@enron.com   \n",
       "20446   2002-01-15      don.baughman@enron.com   \n",
       "49848   2001-08-24     michelle.cash@enron.com   \n",
       "39558   2001-04-09          rick.buy@enron.com   \n",
       "230913  2001-01-18       steven.kean@enron.com   \n",
       "20359   2001-07-18        lloyd.will@enron.com   \n",
       "449719  2001-10-24      valerie.vela@enron.com   \n",
       "20408   2002-02-04      don.baughman@enron.com   \n",
       "230939  2001-01-16        simon.shih@enron.com   \n",
       "259078  2002-02-05       s..bradford@enron.com   \n",
       "275756  2001-05-03   matthew.lenhart@enron.com   \n",
       "79003   2001-10-01     jeff.dasovich@enron.com   \n",
       "309787  2001-06-07          kay.mann@enron.com   \n",
       "230949  2001-01-14       steven.kean@enron.com   \n",
       "279623  2001-05-04   matthew.lenhart@enron.com   \n",
       "279620  2001-05-03   matthew.lenhart@enron.com   \n",
       "326278  2001-02-16    mike.mcconnell@enron.com   \n",
       "178702  2001-04-12          dan.hyvl@enron.com   \n",
       "335660  2000-10-15  errol.mclaughlin@enron.com   \n",
       "406062  2002-02-12         larry.may@enron.com   \n",
       "\n",
       "                                             Message-Body  Verbosity  \n",
       "485284  >> Day 752>> My captors continue to taunt me w...        399  \n",
       "30261   \\tshawn.cumberland@enron.com, dan.leff@enron.c...        399  \n",
       "386610  \\tsally.mcadams@enron.com, michael.desbiens@en...        399  \n",
       "394863  Lunch as you proposed sounds good. Thanks in a...        399  \n",
       "111022  Hey Ken,Sorry it has taken so long to get back...        399  \n",
       "398273  Disregard my previous messageabout this case. ...        399  \n",
       "453198  Rod:Thanks for the info.  Our family doctor ha...        399  \n",
       "69827   \\tjanel.guerrero@enron.com, allison.hamilton@e...        399  \n",
       "101574  Hey Ken,Sorry it has taken so long to get back...        399  \n",
       "393737  Disregard my previous messageabout this case. ...        399  \n",
       "182690  \\tjohn.nowlan@enron.com, kimberlee.bennick@enr...        399  \n",
       "356835  \\ttammy.gilmore@enron.com, bruce.golden@enron....        399  \n",
       "100234  \\tvance.taylor@enron.com, tom.acton@enron.com,...        399  \n",
       "64490   \\trwhyde@duke-energy.com, sgovenar@govadv.com,...        399  \n",
       "19202   Cc: susan.lindberg@enron.com, l..nicolay@enron...        399  \n",
       "250658  Subject: Conference Call Today with FERC Staff...        399  \n",
       "43238   \\tchris.dorland@enron.com, tom.dutta@enron.com...        399  \n",
       "329192  Please put this on my calendar and find out wh...        399  \n",
       "107628  Hey Ken,Sorry it has taken so long to get back...        399  \n",
       "325299  \\tgeoff.storey@enron.com, ben.jacoby@enron.com...        399  \n",
       "34292   \\tlanny.cramer@enron.com, esther.dasilva@enron...        399  \n",
       "194085  \\tjohn.nowlan@enron.com, kimberlee.bennick@enr...        399  \n",
       "37270   \\tgeoff.storey@enron.com, ben.jacoby@enron.com...        399  \n",
       "45317   \\tchris.dorland@enron.com, tom.dutta@enron.com...        399  \n",
       "385117  Peter, just a follow-up to your email.1.  I wo...        399  \n",
       "400348  \\tmark.fondren@enron.com, vladimir.gorny@enron...        399  \n",
       "323494  \\tgeoff.storey@enron.com, ben.jacoby@enron.com...        399  \n",
       "388526  Peter, just a follow-up to your email.1.  I wo...        399  \n",
       "451706  Rod:Thanks for the info.  Our family doctor ha...        399  \n",
       "113411  When you do, take these three steps which will...        399  \n",
       "...                                                   ...        ...  \n",
       "49823                                                FYI           1  \n",
       "69937                                         Enron stuff          1  \n",
       "275759                                           totally           1  \n",
       "369267                                            fyi...           1  \n",
       "137745                                     Thanx...Laura           1  \n",
       "433290                                       please print          1  \n",
       "178641                                             4105SF          1  \n",
       "103894                                               fyi           1  \n",
       "70029                                            Thanks!           1  \n",
       "20455                                            dbaughm           1  \n",
       "431129                                       please print          1  \n",
       "20446                                               WOW!           1  \n",
       "49848                                           Thanks!!           1  \n",
       "39558                                           fyi,rick           1  \n",
       "230913                                  Any instructions?          1  \n",
       "20359                                                fyi           1  \n",
       "449719                                          Yeah!!!!           1  \n",
       "20408                  unsubscribe don.baughman@enron.com          1  \n",
       "230939                           This OrderAgenda01020304          1  \n",
       "259078                                              Bill           1  \n",
       "275756                                        rohan davey          1  \n",
       "79003                                           Go Barry!          1  \n",
       "309787                                   please calendar.          1  \n",
       "230949                                  california update          1  \n",
       "279623                                           totally           1  \n",
       "279620                                        rohan davey          1  \n",
       "326278                                           Dan Reck          1  \n",
       "178702                                            Got it.          1  \n",
       "335660                                         I'm there.          1  \n",
       "406062                                               yes           1  \n",
       "\n",
       "[254377 rows x 4 columns]"
      ]
     },
     "execution_count": 20,
     "metadata": {},
     "output_type": "execute_result"
    },
    {
     "name": "stdout",
     "output_type": "stream",
     "text": [
      "time: 524 ms\n"
     ]
    }
   ],
   "source": [
    "# Take out all emails with no words and those above 400 \n",
    "\n",
    "original_emails = original_emails[ original_emails['Verbosity'] > 0]\n",
    "original_emails = original_emails[ original_emails['Verbosity'] < 400]\n",
    "\n",
    "# Filter out some additional junk emails \n",
    "\n",
    "original_emails = original_emails[ original_emails['From'].str[-10:] == '@enron.com' ] #Not from enron employee\n",
    "original_emails = original_emails[ original_emails['From'] != 'center.ets@enron.com' ] #Not from alert system\n",
    "original_emails = original_emails[ original_emails['Message-Body'].str.strip() != ''] #Is just a space \n",
    "\n",
    "\n",
    "original_emails.sort_values('Verbosity', ascending=False)"
   ]
  },
  {
   "cell_type": "code",
   "execution_count": 21,
   "metadata": {},
   "outputs": [
    {
     "name": "stdout",
     "output_type": "stream",
     "text": [
      "After cleaning, the df has this number of emails:  254377\n"
     ]
    },
    {
     "data": {
      "image/png": "[encoded data removed]",
      "text/plain": [
       "<Figure size 432x288 with 1 Axes>"
      ]
     },
     "metadata": {
      "needs_background": "light"
     },
     "output_type": "display_data"
    },
    {
     "name": "stdout",
     "output_type": "stream",
     "text": [
      "time: 217 ms\n"
     ]
    }
   ],
   "source": [
    "#Plot the distribution of words in each email and shape of data\n",
    "\n",
    "original_emails.hist(column='Verbosity')\n",
    "\n",
    "print (\"After cleaning, the df has this number of emails: \", original_emails.shape[0])"
   ]
  },
  {
   "cell_type": "markdown",
   "metadata": {},
   "source": [
    "# Advanced Data Processing\n",
    "\n",
    "- All words to lowercase \n",
    "- Remove punctuation\n",
    "- Remove stop words with nltk\n",
    "- Remove numbers\n",
    "- Remove non-english words with nltk corpus\n",
    "- Apply lemmatizer "
   ]
  },
  {
   "cell_type": "code",
   "execution_count": 22,
   "metadata": {},
   "outputs": [
    {
     "name": "stdout",
     "output_type": "stream",
     "text": [
      "time: 305 ms\n"
     ]
    }
   ],
   "source": [
    "# Lower\n",
    "\n",
    "original_emails['Message-Body'] = original_emails['Message-Body'].str.lower()"
   ]
  },
  {
   "cell_type": "code",
   "execution_count": 23,
   "metadata": {},
   "outputs": [
    {
     "name": "stdout",
     "output_type": "stream",
     "text": [
      "time: 5.31 s\n"
     ]
    }
   ],
   "source": [
    "# Remove punctuation w/ regex\n",
    "\n",
    "original_emails[\"Message-Body\"] = original_emails['Message-Body'].str.replace('[^\\w\\s]',' ')"
   ]
  },
  {
   "cell_type": "code",
   "execution_count": 24,
   "metadata": {},
   "outputs": [
    {
     "name": "stdout",
     "output_type": "stream",
     "text": [
      "time: 47.2 s\n"
     ]
    }
   ],
   "source": [
    "# Remove stop words with NLTK\n",
    "\n",
    "stop = stopwords.words('english')\n",
    "original_emails['Message-Body'] = original_emails['Message-Body'].apply(lambda x: ' '.join({word for word in x.split() if word not in (stop)}))"
   ]
  },
  {
   "cell_type": "code",
   "execution_count": 25,
   "metadata": {},
   "outputs": [
    {
     "name": "stdout",
     "output_type": "stream",
     "text": [
      "time: 2.49 s\n"
     ]
    }
   ],
   "source": [
    "# Remove numbers \n",
    "\n",
    "original_emails[\"Message-Body\"] = original_emails['Message-Body'].str.replace('\\d+', '')"
   ]
  },
  {
   "cell_type": "code",
   "execution_count": 26,
   "metadata": {},
   "outputs": [
    {
     "name": "stdout",
     "output_type": "stream",
     "text": [
      "time: 2.92 s\n"
     ]
    }
   ],
   "source": [
    "# Still have words in not the english language. Remove them \n",
    "\n",
    "english_words = set(nltk.corpus.words.words())\n",
    "\n",
    "original_emails['Message-Body'] = original_emails['Message-Body'].apply(lambda x: ' '.join({word for word in x.split() if word in (english_words)}))"
   ]
  },
  {
   "cell_type": "code",
   "execution_count": 27,
   "metadata": {},
   "outputs": [
    {
     "name": "stdout",
     "output_type": "stream",
     "text": [
      "time: 152 ms\n"
     ]
    }
   ],
   "source": [
    "# Now remove rows that no longer have values \n",
    "\n",
    "original_emails = original_emails[ original_emails['Message-Body'].str.strip() != '']"
   ]
  },
  {
   "cell_type": "code",
   "execution_count": 28,
   "metadata": {},
   "outputs": [
    {
     "name": "stdout",
     "output_type": "stream",
     "text": [
      "time: 26.8 s\n"
     ]
    }
   ],
   "source": [
    "# Apple Lemmatizer\n",
    "\n",
    "from nltk.stem import WordNetLemmatizer \n",
    "  \n",
    "lemmatizer = WordNetLemmatizer()\n",
    "\n",
    "original_emails['Message-Body'] = original_emails['Message-Body'].apply(lambda x: ' '.join(lemmatizer.lemmatize(word) for word in x.split()))"
   ]
  },
  {
   "cell_type": "code",
   "execution_count": 29,
   "metadata": {},
   "outputs": [
    {
     "name": "stdout",
     "output_type": "stream",
     "text": [
      "time: 480 ms\n"
     ]
    }
   ],
   "source": [
    "# Recalculate Verbosity\n",
    "\n",
    "original_emails['Verbosity'] = original_emails['Message-Body'].str.count(' ')"
   ]
  },
  {
   "cell_type": "code",
   "execution_count": 31,
   "metadata": {},
   "outputs": [
    {
     "data": {
      "text/html": [
       "<div>\n",
       "<style scoped>\n",
       "    .dataframe tbody tr th:only-of-type {\n",
       "        vertical-align: middle;\n",
       "    }\n",
       "\n",
       "    .dataframe tbody tr th {\n",
       "        vertical-align: top;\n",
       "    }\n",
       "\n",
       "    .dataframe thead th {\n",
       "        text-align: right;\n",
       "    }\n",
       "</style>\n",
       "<table border=\"1\" class=\"dataframe\">\n",
       "  <thead>\n",
       "    <tr style=\"text-align: right;\">\n",
       "      <th></th>\n",
       "      <th>Date</th>\n",
       "      <th>From</th>\n",
       "      <th>Message-Body</th>\n",
       "      <th>Verbosity</th>\n",
       "    </tr>\n",
       "  </thead>\n",
       "  <tbody>\n",
       "    <tr>\n",
       "      <th>0</th>\n",
       "      <td>2001-05-14</td>\n",
       "      <td>phillip.allen@enron.com</td>\n",
       "      <td>forecast</td>\n",
       "      <td>0</td>\n",
       "    </tr>\n",
       "    <tr>\n",
       "      <th>1</th>\n",
       "      <td>2001-05-04</td>\n",
       "      <td>phillip.allen@enron.com</td>\n",
       "      <td>better turn honest far suggestion waiting nece...</td>\n",
       "      <td>51</td>\n",
       "    </tr>\n",
       "    <tr>\n",
       "      <th>2</th>\n",
       "      <td>2000-10-18</td>\n",
       "      <td>phillip.allen@enron.com</td>\n",
       "      <td>successful way go test</td>\n",
       "      <td>3</td>\n",
       "    </tr>\n",
       "    <tr>\n",
       "      <th>3</th>\n",
       "      <td>2000-10-23</td>\n",
       "      <td>phillip.allen@enron.com</td>\n",
       "      <td>made example need everyone schedule salary sen...</td>\n",
       "      <td>10</td>\n",
       "    </tr>\n",
       "    <tr>\n",
       "      <th>4</th>\n",
       "      <td>2000-08-31</td>\n",
       "      <td>phillip.allen@enron.com</td>\n",
       "      <td>shoot let</td>\n",
       "      <td>1</td>\n",
       "    </tr>\n",
       "  </tbody>\n",
       "</table>\n",
       "</div>"
      ],
      "text/plain": [
       "         Date                     From  \\\n",
       "0  2001-05-14  phillip.allen@enron.com   \n",
       "1  2001-05-04  phillip.allen@enron.com   \n",
       "2  2000-10-18  phillip.allen@enron.com   \n",
       "3  2000-10-23  phillip.allen@enron.com   \n",
       "4  2000-08-31  phillip.allen@enron.com   \n",
       "\n",
       "                                        Message-Body  Verbosity  \n",
       "0                                           forecast          0  \n",
       "1  better turn honest far suggestion waiting nece...         51  \n",
       "2                             successful way go test          3  \n",
       "3  made example need everyone schedule salary sen...         10  \n",
       "4                                          shoot let          1  "
      ]
     },
     "execution_count": 31,
     "metadata": {},
     "output_type": "execute_result"
    },
    {
     "name": "stdout",
     "output_type": "stream",
     "text": [
      "time: 8.49 ms\n"
     ]
    }
   ],
   "source": [
    "# Preview\n",
    "\n",
    "original_emails.head()"
   ]
  },
  {
   "cell_type": "code",
   "execution_count": 32,
   "metadata": {},
   "outputs": [
    {
     "name": "stdout",
     "output_type": "stream",
     "text": [
      "After advanced cleaning, the df has this number of emails:  249474\n"
     ]
    },
    {
     "data": {
      "image/png": "[encoded data removed]",
      "text/plain": [
       "<Figure size 432x288 with 1 Axes>"
      ]
     },
     "metadata": {
      "needs_background": "light"
     },
     "output_type": "display_data"
    },
    {
     "name": "stdout",
     "output_type": "stream",
     "text": [
      "time: 189 ms\n"
     ]
    }
   ],
   "source": [
    "# New histogram\n",
    "\n",
    "original_emails.hist(column='Verbosity')\n",
    "\n",
    "print (\"After advanced cleaning, the df has this number of emails: \", original_emails.shape[0])"
   ]
  },
  {
   "cell_type": "code",
   "execution_count": 33,
   "metadata": {},
   "outputs": [
    {
     "name": "stdout",
     "output_type": "stream",
     "text": [
      "time: 1.86 s\n"
     ]
    }
   ],
   "source": [
    "# Write to csv as checkpoint\n",
    "\n",
    "# original_emails.to_csv('emails_v2.csv')"
   ]
  }
 ],
 "metadata": {
  "kernelspec": {
   "display_name": "Python 3",
   "language": "python",
   "name": "python3"
  },
  "language_info": {
   "codemirror_mode": {
    "name": "ipython",
    "version": 3
   },
   "file_extension": ".py",
   "mimetype": "text/x-python",
   "name": "python",
   "nbconvert_exporter": "python",
   "pygments_lexer": "ipython3",
   "version": "3.7.1"
  }
 },
 "nbformat": 4,
 "nbformat_minor": 2
}
