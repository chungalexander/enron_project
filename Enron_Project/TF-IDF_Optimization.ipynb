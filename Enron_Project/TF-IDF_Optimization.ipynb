{
 "cells": [
  {
   "cell_type": "markdown",
   "metadata": {},
   "source": [
    "# TF-IDF Optimization \n",
    "\n",
    "This notebook (toward the end) details the use of TF-IDF to optimize logistic regression by ~5 points. "
   ]
  },
  {
   "cell_type": "markdown",
   "metadata": {},
   "source": [
    "# Setup"
   ]
  },
  {
   "cell_type": "code",
   "execution_count": 55,
   "metadata": {},
   "outputs": [
    {
     "name": "stdout",
     "output_type": "stream",
     "text": [
      "The autotime extension is already loaded. To reload it, use:\n",
      "  %reload_ext autotime\n",
      "time: 782 µs\n"
     ]
    }
   ],
   "source": [
    "# Load timer\n",
    "%load_ext autotime"
   ]
  },
  {
   "cell_type": "code",
   "execution_count": 56,
   "metadata": {},
   "outputs": [
    {
     "name": "stdout",
     "output_type": "stream",
     "text": [
      "time: 958 µs\n"
     ]
    }
   ],
   "source": [
    "# Import necessary libraries \n",
    "import pandas as pd\n",
    "from IPython.display import display\n",
    "import matplotlib.pyplot as plt\n",
    "import nltk\n",
    "from nltk.corpus import stopwords\n",
    "#nltk.download()\n",
    "import re\n",
    "from textblob import TextBlob\n",
    "from textblob.sentiments import NaiveBayesAnalyzer\n",
    "\n",
    "# Turn off warnings\n",
    "import warnings \n",
    "warnings.simplefilter('ignore')"
   ]
  },
  {
   "cell_type": "code",
   "execution_count": 57,
   "metadata": {},
   "outputs": [
    {
     "name": "stdout",
     "output_type": "stream",
     "text": [
      "time: 755 ms\n"
     ]
    }
   ],
   "source": [
    "# Import cleaned data\n",
    "emails = pd.read_csv(\"emails_v2.csv\")\n",
    "emails = emails.drop(['Unnamed: 0'], axis=1)\n",
    "emails['Date'] = pd.to_datetime(emails['Date']).dt.date"
   ]
  },
  {
   "cell_type": "code",
   "execution_count": 58,
   "metadata": {},
   "outputs": [
    {
     "data": {
      "text/html": [
       "<div>\n",
       "<style scoped>\n",
       "    .dataframe tbody tr th:only-of-type {\n",
       "        vertical-align: middle;\n",
       "    }\n",
       "\n",
       "    .dataframe tbody tr th {\n",
       "        vertical-align: top;\n",
       "    }\n",
       "\n",
       "    .dataframe thead th {\n",
       "        text-align: right;\n",
       "    }\n",
       "</style>\n",
       "<table border=\"1\" class=\"dataframe\">\n",
       "  <thead>\n",
       "    <tr style=\"text-align: right;\">\n",
       "      <th></th>\n",
       "      <th>Date</th>\n",
       "      <th>From</th>\n",
       "      <th>Message-Body</th>\n",
       "      <th>Verbosity</th>\n",
       "    </tr>\n",
       "  </thead>\n",
       "  <tbody>\n",
       "    <tr>\n",
       "      <th>0</th>\n",
       "      <td>2001-05-14</td>\n",
       "      <td>phillip.allen@enron.com</td>\n",
       "      <td>forecast</td>\n",
       "      <td>0</td>\n",
       "    </tr>\n",
       "    <tr>\n",
       "      <th>1</th>\n",
       "      <td>2001-05-04</td>\n",
       "      <td>phillip.allen@enron.com</td>\n",
       "      <td>better turn honest far suggestion waiting nece...</td>\n",
       "      <td>51</td>\n",
       "    </tr>\n",
       "    <tr>\n",
       "      <th>2</th>\n",
       "      <td>2000-10-18</td>\n",
       "      <td>phillip.allen@enron.com</td>\n",
       "      <td>successful way go test</td>\n",
       "      <td>3</td>\n",
       "    </tr>\n",
       "    <tr>\n",
       "      <th>3</th>\n",
       "      <td>2000-10-23</td>\n",
       "      <td>phillip.allen@enron.com</td>\n",
       "      <td>made example need everyone schedule salary sen...</td>\n",
       "      <td>10</td>\n",
       "    </tr>\n",
       "    <tr>\n",
       "      <th>4</th>\n",
       "      <td>2000-08-31</td>\n",
       "      <td>phillip.allen@enron.com</td>\n",
       "      <td>shoot let</td>\n",
       "      <td>1</td>\n",
       "    </tr>\n",
       "  </tbody>\n",
       "</table>\n",
       "</div>"
      ],
      "text/plain": [
       "         Date                     From  \\\n",
       "0  2001-05-14  phillip.allen@enron.com   \n",
       "1  2001-05-04  phillip.allen@enron.com   \n",
       "2  2000-10-18  phillip.allen@enron.com   \n",
       "3  2000-10-23  phillip.allen@enron.com   \n",
       "4  2000-08-31  phillip.allen@enron.com   \n",
       "\n",
       "                                        Message-Body  Verbosity  \n",
       "0                                           forecast          0  \n",
       "1  better turn honest far suggestion waiting nece...         51  \n",
       "2                             successful way go test          3  \n",
       "3  made example need everyone schedule salary sen...         10  \n",
       "4                                          shoot let          1  "
      ]
     },
     "execution_count": 58,
     "metadata": {},
     "output_type": "execute_result"
    },
    {
     "name": "stdout",
     "output_type": "stream",
     "text": [
      "time: 15 ms\n"
     ]
    }
   ],
   "source": [
    "emails.head()"
   ]
  },
  {
   "cell_type": "markdown",
   "metadata": {},
   "source": [
    "# Add Gender Label"
   ]
  },
  {
   "cell_type": "code",
   "execution_count": 59,
   "metadata": {},
   "outputs": [
    {
     "data": {
      "text/plain": [
       "{'steven.bailey@enron.com',\n",
       " 'leann.walton@enron.com',\n",
       " 'paul.thomas@enron.com',\n",
       " 'lipshutz@enron.com',\n",
       " 'fiona.stewart@enron.com',\n",
       " 'kenneth.lambert@enron.com',\n",
       " 'laura.vuittonet@enron.com',\n",
       " 'nancy.corbet@enron.com',\n",
       " 'kenneth.kaase@enron.com',\n",
       " 'bryan.gottfredson@enron.com',\n",
       " 'matilda.machado@enron.com',\n",
       " 'ted.bland@enron.com',\n",
       " 'mark.confer@enron.com',\n",
       " 'manuel.gallego@enron.com',\n",
       " 'holly.heath@enron.com',\n",
       " 'darren.cavanaugh@enron.com',\n",
       " 'jess.hewitt@enron.com',\n",
       " 'kathy.kokas@enron.com',\n",
       " 'barbara.lee@enron.com',\n",
       " 'hillary.mack@enron.com',\n",
       " 'andy.blanchard@enron.com',\n",
       " 'michelle.nelson@enron.com',\n",
       " 'l..nowlan@enron.com',\n",
       " 'mark.fischer@enron.com',\n",
       " 'adarsh.vakharia@enron.com',\n",
       " 'lei.chen@enron.com',\n",
       " 'marian.bryant@enron.com',\n",
       " 'kirk.pierce@enron.com',\n",
       " 'coralina.rivera@enron.com',\n",
       " 'claudia.clark@enron.com',\n",
       " 'david.hensel@enron.com',\n",
       " 'carole.frank@enron.com',\n",
       " 'gary.hickerson@enron.com',\n",
       " 'richard.weeks@enron.com',\n",
       " 'basil.karampelas@enron.com',\n",
       " 'don.baughman@enron.com',\n",
       " 'kathryn.sheppard@enron.com',\n",
       " 'leena.mathews@enron.com',\n",
       " 'b.jones@enron.com',\n",
       " 'lindsay.renaud@enron.com',\n",
       " 'tracy.wyman@enron.com',\n",
       " 'adam.siegel@enron.com',\n",
       " 'nick.mooney@enron.com',\n",
       " 'yvette.parker@enron.com',\n",
       " 'community.relations@enron.com',\n",
       " 'sarah.zarkowsky@enron.com',\n",
       " 'stephen.thome@enron.com',\n",
       " 'georgene.moore@enron.com',\n",
       " 'chris.dorland@enron.com',\n",
       " 'sergio.assad@enron.com',\n",
       " 'don.powell@enron.com',\n",
       " 'angela.morris@enron.com',\n",
       " 'amelia.alland@enron.com',\n",
       " 'pham.arnold@enron.com',\n",
       " 'sally.slaughter@enron.com',\n",
       " 'postmaster@enron.com',\n",
       " 'donna.martens@enron.com',\n",
       " 'chris.norris@enron.com',\n",
       " 'greg.martin@enron.com',\n",
       " 'camille.gerard@enron.com',\n",
       " 'marc.sabine@enron.com',\n",
       " 'saima.qadir@enron.com',\n",
       " 'steve.jackson@enron.com',\n",
       " 'christian.werner@enron.com',\n",
       " 'tom.donohoe@enron.com',\n",
       " 'april.hrach@enron.com',\n",
       " 'lenos.trigeorgis@enron.com',\n",
       " 'phillip.allen@enron.com',\n",
       " 'richard.pinion@enron.com',\n",
       " 'renee.perry@enron.com',\n",
       " 'xafira.mendonsa@enron.com',\n",
       " 'steve.wood@enron.com',\n",
       " 'todd.warwick@enron.com',\n",
       " 'hoang.vo@enron.com',\n",
       " 'misha.weidman@enron.com',\n",
       " 'elizabeth.sager@enron.com',\n",
       " 'milken.institute@enron.com',\n",
       " 'shannon.daffern@enron.com',\n",
       " 'pedro.manrique@enron.com',\n",
       " 'joe.hunter@enron.com',\n",
       " 'robert.ramirez@enron.com',\n",
       " 'janet.butler@enron.com',\n",
       " 'nicole.alvino@enron.com',\n",
       " 'webb.jennings@enron.com',\n",
       " 'christie.patrick@enron.com',\n",
       " 'michael.guerriero@enron.com',\n",
       " 'kit.blair@enron.com',\n",
       " 'michelle.akers@enron.com',\n",
       " 'rich.jolly@enron.com',\n",
       " 'kay.young@enron.com',\n",
       " 'thomas.myers@enron.com',\n",
       " 'andrew.lewis@enron.com',\n",
       " 'johnny.ross@enron.com',\n",
       " 'philippe.giguere@enron.com',\n",
       " '4b98e0e8-e7271b97-862566a9-4fb484@enron.com',\n",
       " 'paul.gregory@enron.com',\n",
       " 'paul.cherry@enron.com',\n",
       " 'wiggs@enron.com',\n",
       " 'cindy.olson@enron.com',\n",
       " 'scott.reblitz@enron.com',\n",
       " 'harry.collins@enron.com',\n",
       " 'tricia.flanigan@enron.com',\n",
       " 'steve.schneider@enron.com',\n",
       " 'robert.eickenroht@enron.com',\n",
       " 'scott.larwood@enron.com',\n",
       " 'rex.rogers@enron.com',\n",
       " 'jennifer.reed@enron.com',\n",
       " 'emily.sellers@enron.com',\n",
       " 'm..schmidt@enron.com',\n",
       " 'charles.jacobs@enron.com',\n",
       " 'rich.hall@enron.com',\n",
       " 'yvan.chaxel@enron.com',\n",
       " 'lorie.belsha@enron.com',\n",
       " 'jackie.morgan@enron.com',\n",
       " 'angela.barnett@enron.com',\n",
       " 'tj.butler@enron.com',\n",
       " 'd.hall@enron.com',\n",
       " 'richard.freed@enron.com',\n",
       " 'david.ingram@enron.com',\n",
       " 'nick.ernst@enron.com',\n",
       " 'asem.atta@enron.com',\n",
       " 'peter.crilly@enron.com',\n",
       " 'john.brindle@enron.com',\n",
       " 'jay.patel@enron.com',\n",
       " 'mike.bryant@enron.com',\n",
       " 'cyndie.balfour-flanagan@enron.com',\n",
       " 'c..aucoin@enron.com',\n",
       " 'angela.hylton@enron.com',\n",
       " 'eric.groves@enron.com',\n",
       " 'andrew.kosnaski@enron.com',\n",
       " 'bert.meyers@enron.com',\n",
       " 'jameika.smikle@enron.com',\n",
       " 'joseph.short@enron.com',\n",
       " 'brian.bierbach@enron.com',\n",
       " 'sgibner@enron.com',\n",
       " 'george.mcclellan@enron.com',\n",
       " 'enron.mailsweeper.admin@enron.com',\n",
       " 'ramanarao.tamma@enron.com',\n",
       " 'raquel.buentello@enron.com',\n",
       " 'cindy.stokes@enron.com',\n",
       " 'ann.ballard@enron.com',\n",
       " 'brent.price@enron.com',\n",
       " 'dianna.dupree@enron.com',\n",
       " 'mike.clifford@enron.com',\n",
       " 'andy.brady@enron.com',\n",
       " 'kesha.clark@enron.com',\n",
       " 'valerie.ramsower@enron.com',\n",
       " 'adam.pollock@enron.com',\n",
       " 'samantha.law@enron.com',\n",
       " 'f..calger@enron.com',\n",
       " 'jeff.king@enron.com',\n",
       " 'lawrence.clayton@enron.com',\n",
       " 'max.kelly@enron.com',\n",
       " 'john.swinney@enron.com',\n",
       " 'todd.burke@enron.com',\n",
       " 'e.murrell@enron.com',\n",
       " 'william.fleenor@enron.com',\n",
       " 'myrna.salinas@enron.com',\n",
       " 'mark.friedman@enron.com',\n",
       " 'eric.ledain@enron.com',\n",
       " 'robert.cook@enron.com',\n",
       " 'julie.pechersky@enron.com',\n",
       " 'richard.hrabal@enron.com',\n",
       " 'christian.hackett@enron.com',\n",
       " 'jeffrey.shankman@enron.com',\n",
       " 'chauncey.hood@enron.com',\n",
       " 'click.home@enron.com',\n",
       " 'dupont@enron.com',\n",
       " 'john.champion@enron.com',\n",
       " 'evite@enron.com',\n",
       " 'roberta.staehlin@enron.com',\n",
       " 'bill.williams@enron.com',\n",
       " 'norma.petry@enron.com',\n",
       " 'cathy.deleonardis@enron.com',\n",
       " 'jay.vandenberg@enron.com',\n",
       " 'jonathan.perret@enron.com',\n",
       " 'johnnie.white@enron.com',\n",
       " 'bb4eb72a-172de319-86256aaa-4c9060@enron.com',\n",
       " 'edward.ondarza@enron.com',\n",
       " 'kristen.clause@enron.com',\n",
       " 'daw@enron.com',\n",
       " 'sally.alvarez@enron.com',\n",
       " 'tom.adams@enron.com',\n",
       " 'dave.samuels@enron.com',\n",
       " 'jennifer.walker@enron.com',\n",
       " 'mark.guzman@enron.com',\n",
       " 'vanessa.schulte@enron.com',\n",
       " 'steven.south@enron.com',\n",
       " \"carla.o'neil@enron.com\",\n",
       " 'leslie.hansen@enron.com',\n",
       " 'holly.strong@enron.com',\n",
       " 'carlos.sole@enron.com',\n",
       " 'gualy@enron.com',\n",
       " 'ann.foret@enron.com',\n",
       " 'gary.fitch@enron.com',\n",
       " 'steve.hall@enron.com',\n",
       " 'lynn.blair@enron.com',\n",
       " 'bill.donovan@enron.com',\n",
       " 'milagros.daetz@enron.com',\n",
       " 'cindy.derecskey@enron.com',\n",
       " 'joan.collins@enron.com',\n",
       " 'wilma.williams@enron.com',\n",
       " 'lisa.cousino@enron.com',\n",
       " 'david.cromley@enron.com',\n",
       " 'whalley@enron.com',\n",
       " 'julie.cobb@enron.com',\n",
       " 'tamara.johnson@enron.com',\n",
       " 'enron.security@enron.com',\n",
       " 'marshall.brown@enron.com',\n",
       " 'abel@enron.com',\n",
       " 'michelle.schultz@enron.com',\n",
       " 'h..harrison@enron.com',\n",
       " 'jenny.rub@enron.com',\n",
       " 'steve.stock@enron.com',\n",
       " 'sevil.yaman@enron.com',\n",
       " 'todd.peikert@enron.com',\n",
       " 'bailey@enron.com',\n",
       " 'lynn.pikofsky@enron.com',\n",
       " 'deshonda.hamilton@enron.com',\n",
       " 'barbara.lewis@enron.com',\n",
       " 'walton.agnew@enron.com',\n",
       " 'george.huan@enron.com',\n",
       " 'elizabeth.shim@enron.com',\n",
       " 'luis.gonzalez@enron.com',\n",
       " 'susan.musch@enron.com',\n",
       " 'dan.fancler@enron.com',\n",
       " 'butch.russell@enron.com',\n",
       " 'dirk.dimitry@enron.com',\n",
       " 'john.goodpasture@enron.com',\n",
       " 'darren.vanek@enron.com',\n",
       " 'henry.means@enron.com',\n",
       " 'jun.wang@enron.com',\n",
       " 'kurt.wangenheim@enron.com',\n",
       " 'ron.slimp@enron.com',\n",
       " 'chris.schomer@enron.com',\n",
       " 'scott.grier@enron.com',\n",
       " 'vikas.dwivedi@enron.com',\n",
       " 'weather@enron.com',\n",
       " 'martin.penkwitz@enron.com',\n",
       " 'wade.cline@enron.com',\n",
       " 'mara.gonzalez@enron.com',\n",
       " 'julie.hayward@enron.com',\n",
       " 'daler.wade@enron.com',\n",
       " 'kimberly.hundl@enron.com',\n",
       " 'paul.smith@enron.com',\n",
       " 'lindsay.culotta@enron.com',\n",
       " 'yumi.takei@enron.com',\n",
       " 'martha.braddy@enron.com',\n",
       " 'bob.martinez@enron.com',\n",
       " 'carol.lapsley@enron.com',\n",
       " 'michael.etringer@enron.com',\n",
       " 'kenny.soignet@enron.com',\n",
       " 'thomas.gros@enron.com',\n",
       " 'j..parrish@enron.com',\n",
       " 'collonges@enron.com',\n",
       " 'colleen.hood@enron.com',\n",
       " 'susie.ayala@enron.com',\n",
       " 'kikumi.kishigami@enron.com',\n",
       " 'kayne.coulter@enron.com',\n",
       " 'sami.arap@enron.com',\n",
       " 'todd.perry@enron.com',\n",
       " 'clickathome@enron.com',\n",
       " 'tamara.davis@enron.com',\n",
       " 'shawna.flynn@enron.com',\n",
       " 'humberto.cubillos-uejbe@enron.com',\n",
       " 'julie.armstrong@enron.com',\n",
       " 'team.gallup@enron.com',\n",
       " 'maggie.schroeder@enron.com',\n",
       " 'douglas@enron.com',\n",
       " 'justin.boyd@enron.com',\n",
       " 'maureen.mcvicker@enron.com',\n",
       " 'david.mitchell@enron.com',\n",
       " 'dan.staines@enron.com',\n",
       " 'phillip.platter@enron.com',\n",
       " 'debra.bailey@enron.com',\n",
       " 'larry.berger@enron.com',\n",
       " 'l..lawrence@enron.com',\n",
       " 'nekesha.clark@enron.com',\n",
       " 'jinsung.myung@enron.com',\n",
       " 'stan.horton.@enron.com',\n",
       " 'gary.zahn@enron.com',\n",
       " 'carolyn.winowitch@enron.com',\n",
       " 'heather.mathis@enron.com',\n",
       " 'peter.berzins@enron.com',\n",
       " 'stubblefield@enron.com',\n",
       " 'kyle.roblee@enron.com',\n",
       " 'denise.williams@enron.com',\n",
       " 'rob.milnthorp@enron.com',\n",
       " 'billy.dorsey@enron.com',\n",
       " 'jim.buerkle@enron.com',\n",
       " 'jay.webb@enron.com',\n",
       " 'brian.barto@enron.com',\n",
       " 'jonathan.hoff@enron.com',\n",
       " 'kal.shah@enron.com',\n",
       " 'diane.becker@enron.com',\n",
       " 'byron.rance@enron.com',\n",
       " 'a..campos@enron.com',\n",
       " 'william.nealy@enron.com',\n",
       " 'paul.schiavone@enron.com',\n",
       " 'francis.lim@enron.com',\n",
       " 'david.dupre@enron.com',\n",
       " 'carolyn.george@enron.com',\n",
       " 'nicola.beales@enron.com',\n",
       " 'kimberly.bragg@enron.com',\n",
       " 'beverly.fennessy@enron.com',\n",
       " 'charles.alvarez@enron.com',\n",
       " 'robert.mcgrory@enron.com',\n",
       " 'stephen.thatcher@enron.com',\n",
       " 'kelly.mccain@enron.com',\n",
       " 'larry.may@enron.com',\n",
       " 'thomas.moore@enron.com',\n",
       " 'robert.badeer@enron.com',\n",
       " 'russell.diamond@enron.com',\n",
       " 'thane.twiggs@enron.com',\n",
       " 'sharon.brown@enron.com',\n",
       " 'enron.general.announcements.enronxgate@enron.com',\n",
       " 'nancy.muchmore@enron.com',\n",
       " 'marc.phillips@enron.com',\n",
       " 'rob.brown@enron.com',\n",
       " 'ryan.sheeren@enron.com',\n",
       " 'kim.frumkin@enron.com',\n",
       " 'joey.taylor@enron.com',\n",
       " 'richard.ring@enron.com',\n",
       " 'danny.conner@enron.com',\n",
       " 'rick.buy@enron.com',\n",
       " 'john.hodge@enron.com',\n",
       " 'jonathon.pielop@enron.com',\n",
       " 'tammy.jaquet@enron.com',\n",
       " 'jez.peters@enron.com',\n",
       " 'gomez@enron.com',\n",
       " 'adam.bayer@enron.com',\n",
       " 'tandra.coleman@enron.com',\n",
       " 'samantha.boyd@enron.com',\n",
       " 'buddy.majorwitz@enron.com',\n",
       " 'jefferson.sorenson@enron.com',\n",
       " 'marlo.james@enron.com',\n",
       " 'wade.stubblefield@enron.com',\n",
       " 'fran.fagan@enron.com',\n",
       " 'ray.smith@enron.com',\n",
       " 'stephanie.olszewski@enron.com',\n",
       " 'mary.clark@enron.com',\n",
       " 'rita.bianchi@enron.com',\n",
       " 'jennifer.medcalf@enron.com',\n",
       " 'patricia.villalobos@enron.com',\n",
       " 'jeff.royed@enron.com',\n",
       " 'killen@enron.com',\n",
       " 'guido.govers@enron.com',\n",
       " 'hunaid.engineer@enron.com',\n",
       " 'faith.killen@enron.com',\n",
       " 'anastasia.aourik@enron.com',\n",
       " 'mckay@enron.com',\n",
       " 'dennis.alexander@enron.com',\n",
       " 'souad.mahmassani@enron.com',\n",
       " 'e..anderson@enron.com',\n",
       " 'nathan.creech@enron.com',\n",
       " 'patricia.cini@enron.com',\n",
       " 'zimin.lu@enron.com',\n",
       " 'dianne.swiber@enron.com',\n",
       " 'david.allan@enron.com',\n",
       " 'e..brown@enron.com',\n",
       " 'brian.oxley@enron.com',\n",
       " 'heather.garratt@enron.com',\n",
       " 'pat.vaughan@enron.com',\n",
       " 'steve.gillespie@enron.com',\n",
       " 'vanessa.berrios@enron.com',\n",
       " 'r..pena@enron.com',\n",
       " 'piper@enron.com',\n",
       " 'scott.churbock@enron.com',\n",
       " 'roxanne.saldana@enron.com',\n",
       " 'denka.wangdi@enron.com',\n",
       " 'rod.nelson@enron.com',\n",
       " 'jerry.graves@enron.com',\n",
       " 'brad.blesie@enron.com',\n",
       " 'amie.ha@enron.com',\n",
       " 'treasa.kirby@enron.com',\n",
       " 'mike.mazowita@enron.com',\n",
       " 'ted.barlow@enron.com',\n",
       " 'hrgovcic@enron.com',\n",
       " 'chris.holmes@enron.com',\n",
       " 'marcie.milner@enron.com',\n",
       " 'kayla.ruiz@enron.com',\n",
       " 'julie.kearney@enron.com',\n",
       " 'b..hearn@enron.com',\n",
       " 's..theriot@enron.com',\n",
       " 'chris.williams@enron.com',\n",
       " 'howard.fromer@enron.com',\n",
       " 'dave.delainey@enron.com',\n",
       " 'semperger@enron.com',\n",
       " 'deborah.shahmoradi@enron.com',\n",
       " 'kim.detiveaux@enron.com',\n",
       " 'tina.livingston@enron.com',\n",
       " 'tori.kuykendall@enron.com',\n",
       " 'john.delainey@enron.com',\n",
       " 'phyllis.anzalone@enron.com',\n",
       " 'richard.tomaski@enron.com',\n",
       " 'fred.mitro@enron.com',\n",
       " 'maria.hernandez@enron.com',\n",
       " 'scott.gardner@enron.com',\n",
       " 'richard.sanders@enron.com',\n",
       " 'f..keavey@enron.com',\n",
       " 'lisa.nemec@enron.com',\n",
       " 'veronica.valdez@enron.com',\n",
       " 'leslie.reeves@enron.com',\n",
       " 'ray.stelly@enron.com',\n",
       " 'robert.bogucki@enron.com',\n",
       " 'david.hoog@enron.com',\n",
       " 'kelly.summers@enron.com',\n",
       " 'richard.friedman@enron.com',\n",
       " 'jason.huang@enron.com',\n",
       " 'judy.zoch@enron.com',\n",
       " 'chad.landry@enron.com',\n",
       " 'scott.gilchrist@enron.com',\n",
       " 'molly.sample@enron.com',\n",
       " 'cathy.sprowls@enron.com',\n",
       " 'crenshaw@enron.com',\n",
       " 'joan.stransky@enron.com',\n",
       " 'frank.wanderski@enron.com',\n",
       " 'sylvia.perez@enron.com',\n",
       " 'shelly.friesenhahn@enron.com',\n",
       " 'stuart.fieldhouse@enron.com',\n",
       " 'marsha.shepherd@enron.com',\n",
       " 'stan.horton@enron.com',\n",
       " 'l..carson@enron.com',\n",
       " 'kathryn.thomas@enron.com',\n",
       " 'bo.barnwell@enron.com',\n",
       " 'carey.metz@enron.com',\n",
       " 'john.ballentine@enron.com',\n",
       " 'diana.parker@enron.com',\n",
       " 'cynthia.sandherr@enron.com',\n",
       " 'jennifer.shipos@enron.com',\n",
       " 'sylvia.thomas@enron.com',\n",
       " 'mary.browning@enron.com',\n",
       " 's..trevino@enron.com',\n",
       " 'melinda.winn@enron.com',\n",
       " 'ruby.kyser@enron.com',\n",
       " 'steve.dahnke@enron.com',\n",
       " 'thresa.allen@enron.com',\n",
       " 'paul.racicot@enron.com',\n",
       " 'stathis@enron.com',\n",
       " 'warren.perry@enron.com',\n",
       " 'lisa.shoemake@enron.com',\n",
       " 'michael.legler@enron.com',\n",
       " 'bryan.seyfried@enron.com',\n",
       " 'lysa.akin@enron.com',\n",
       " 'linda.j.noske@enron.com',\n",
       " 'michel.nelson@enron.com',\n",
       " 'bob.m.hall@enron.com',\n",
       " 'susan.skarness@enron.com',\n",
       " 'evan.hughes@enron.com',\n",
       " 'jamie.wachel@enron.com',\n",
       " 'jeff.westover@enron.com',\n",
       " 'sandra.mcnichols@enron.com',\n",
       " 'gloria.cruz@enron.com',\n",
       " 'seth.sarakaitis@enron.com',\n",
       " 'miguel.maltes@enron.com',\n",
       " 'cathy.moehlman@enron.com',\n",
       " 'ford.cooper@enron.com',\n",
       " 'laura.vargas@enron.com',\n",
       " 'fallon@enron.com',\n",
       " 'r..shepperd@enron.com',\n",
       " 'lisa.connolly@enron.com',\n",
       " \"murray.o'neil@enron.com\",\n",
       " 'maria.valdes@enron.com',\n",
       " 'kathy.axford@enron.com',\n",
       " 'bernadette.santillan@enron.com',\n",
       " 'susan.landwehr@enron.com',\n",
       " 'joe.stepenovitch@enron.com',\n",
       " 'stephen.schwarz@enron.com',\n",
       " 'terri.harlan@enron.com',\n",
       " 'ross.koller@enron.com',\n",
       " 'meliza.evanson@enron.com',\n",
       " 'glenn.rogers@enron.com',\n",
       " 'francisco.dejesus@enron.com',\n",
       " 'd..thomas@enron.com',\n",
       " 'young@enron.com',\n",
       " 'robert.hayes@enron.com',\n",
       " 'ora.cross@enron.com',\n",
       " 'phil.clifford@enron.com',\n",
       " 'julia.chin@enron.com',\n",
       " 'team.flagstaff@enron.com',\n",
       " 'perfmgmt@enron.com',\n",
       " 'lloyd.fleming@enron.com',\n",
       " 'shawn.grady@enron.com',\n",
       " 'andy.rodriquez@enron.com',\n",
       " 'oscar.rivera@enron.com',\n",
       " 'chris.hyde@enron.com',\n",
       " 'maria.mitchell@enron.com',\n",
       " 'tim.belden@enron.com',\n",
       " 'mark.schlueter@enron.com',\n",
       " 'andy.chen@enron.com',\n",
       " 'maureen.smith@enron.com',\n",
       " 'susan.kennedy@enron.com',\n",
       " 'susan.scott@enron.com',\n",
       " 'brandee.jackson@enron.com',\n",
       " 'amelia.alder@enron.com',\n",
       " 'linda.trevino@enron.com',\n",
       " 'rachel.cady@enron.com',\n",
       " 'cassandra.dutton@enron.com',\n",
       " 'vonderheide@enron.com',\n",
       " 'mark.broadfoot@enron.com',\n",
       " 'meredith.philipp@enron.com',\n",
       " 'susan.ralph@enron.com',\n",
       " 'michael.burke@enron.com',\n",
       " 'lisa.jacobson@enron.com',\n",
       " 'john.van@enron.com',\n",
       " 'sara.davidson@enron.com',\n",
       " 'kristine.best@enron.com',\n",
       " 'tommy.garza@enron.com',\n",
       " 'thor.lien@enron.com',\n",
       " 'a..schroeder@enron.com',\n",
       " 'console.security@enron.com',\n",
       " 'steven.luong@enron.com',\n",
       " 'russell.murrell@enron.com',\n",
       " 'john.lavorato@enron.com',\n",
       " 'p..adams@enron.com',\n",
       " 'tiffany.miller@enron.com',\n",
       " 'communications.newpower@enron.com',\n",
       " 'jeffrey.mcmahon@enron.com',\n",
       " 'erica.harris@enron.com',\n",
       " 'jeffrey.porter@enron.com',\n",
       " 'jimmy.dowden@enron.com',\n",
       " 'pat.jefferson@enron.com',\n",
       " 'carl.carter@enron.com',\n",
       " 'mike.harper.enronxgate@enron.com',\n",
       " 'bonnie.white@enron.com',\n",
       " 'ed.robinson@enron.com',\n",
       " 'ecn2760.conf.@enron.com',\n",
       " 'peter.weidler@enron.com',\n",
       " 'carmella.jones@enron.com',\n",
       " 'william.morley@enron.com',\n",
       " 'gloria.wier@enron.com',\n",
       " 'amy.degeyter@enron.com',\n",
       " 'ruth.jensen@enron.com',\n",
       " 'troy.denetsosie@enron.com',\n",
       " 'mark.e.haedicke@enron.com',\n",
       " 'debbie.moseley@enron.com',\n",
       " 'john.llodra@enron.com',\n",
       " 'g..bushman@enron.com',\n",
       " 'kimberly.hardy@enron.com',\n",
       " 'e..carter@enron.com',\n",
       " 'mike.roberts@enron.com',\n",
       " 'donald.vignaroli@enron.com',\n",
       " 'ellen.wallumrod@enron.com',\n",
       " 'steve.terraso@enron.com',\n",
       " 'steve.spar@enron.com',\n",
       " 'kathy.reeves@enron.com',\n",
       " 'questions@enron.com',\n",
       " 'jesus.melendrez@enron.com',\n",
       " 'jason.garvey@enron.com',\n",
       " 'm..tholt@enron.com',\n",
       " 'john.hardy@enron.com',\n",
       " 'lara.mckinney@enron.com',\n",
       " 'braedi.craig@enron.com',\n",
       " 'laura.johnson@enron.com',\n",
       " 'john.schwartzenburg@enron.com',\n",
       " 'kathy.mayfield@enron.com',\n",
       " 'demetrion.ware@enron.com',\n",
       " 'michael.dennison@enron.com',\n",
       " 'palmer.letzerich@enron.com',\n",
       " 'justin.fernandez@enron.com',\n",
       " 'ganjoo@enron.com',\n",
       " 'kathy.mcmahon@enron.com',\n",
       " 'kristin.gandy@enron.com',\n",
       " 'team.san-juan@enron.com',\n",
       " 'mark.thibodeaux@enron.com',\n",
       " 'nicole.scott@enron.com',\n",
       " 'rob.wheeler@enron.com',\n",
       " 'carolyn.centilli@enron.com',\n",
       " 'rachael.tobor@enron.com',\n",
       " 'mariano.gomez@enron.com',\n",
       " 'jeffery.fawcett@enron.com',\n",
       " 'lambie@enron.com',\n",
       " 'christa.aguilar@enron.com',\n",
       " 'announcements.enron@enron.com',\n",
       " 'mike.dahlke@enron.com',\n",
       " 'rice@enron.com',\n",
       " 'nate.blackburn@enron.com',\n",
       " 'stella.morris@enron.com',\n",
       " 'george.fastuca@enron.com',\n",
       " 'vera.jones@enron.com',\n",
       " 'xochitl-alexis.velasco@enron.com',\n",
       " 'harlan.murphy@enron.com',\n",
       " 'roy.boston@enron.com',\n",
       " 'kay.mann@enron.com',\n",
       " 'amanda.day@enron.com',\n",
       " 'dean.mccallister@enron.com',\n",
       " 'marisa.rapacioli@enron.com',\n",
       " 'matthew.titus@enron.com',\n",
       " 'dawn.mcdonald@enron.com',\n",
       " 'scott.coburn@enron.com',\n",
       " 'majed.nachawati@enron.com',\n",
       " 'dustin.collins@enron.com',\n",
       " 'gary.kenagy@enron.com',\n",
       " 'felecia.adams@enron.com',\n",
       " \"paul.y'barbo@enron.com\",\n",
       " 'julie.gomez@enron.com',\n",
       " 'john.cobb@enron.com',\n",
       " 'rita.houser@enron.com',\n",
       " 'chuck.ames@enron.com',\n",
       " 'steve.kirk@enron.com',\n",
       " 'dawn.doucet@enron.com',\n",
       " 'mark.fillinger@enron.com',\n",
       " 'ed.iii@enron.com',\n",
       " 'brandon.oliveira@enron.com',\n",
       " 'timothy.hamilton@enron.com',\n",
       " 'milnthorp@enron.com',\n",
       " 'darin.presto@enron.com',\n",
       " 'julie.ferrara@enron.com',\n",
       " 'ann.matson@enron.com',\n",
       " 'kevin.brady@enron.com',\n",
       " 'sue.cowan@enron.com',\n",
       " 'e..kelly@enron.com',\n",
       " 'peter.vint@enron.com',\n",
       " 'lizzette.palmer@enron.com',\n",
       " 'richard.riehm@enron.com',\n",
       " 'hrgim@enron.com',\n",
       " 'rob.wilson@enron.com',\n",
       " 'j..porter@enron.com',\n",
       " 'stacey.bolton@enron.com',\n",
       " 'david.wall@enron.com',\n",
       " 'christopher.larson@enron.com',\n",
       " 'rusty.belflower@enron.com',\n",
       " 'walt.serrano@enron.com',\n",
       " 'john.spitz@enron.com',\n",
       " 'ann.eason@enron.com',\n",
       " 'sanjay.bhatnagar@enron.com',\n",
       " 'richard.lammers@enron.com',\n",
       " 'j..bump@enron.com',\n",
       " 'bradley.holmes@enron.com',\n",
       " 'laine.borgman@enron.com',\n",
       " 'christine.mcevoy@enron.com',\n",
       " 'janie.aguayo@enron.com',\n",
       " 'enronmediacuttings@enron.com',\n",
       " 'misti.day@enron.com',\n",
       " 'matthew.tezyk@enron.com',\n",
       " 'christian.rahaim@enron.com',\n",
       " 'dawn.kenne@enron.com',\n",
       " 'kim.ward@enron.com',\n",
       " 'ect.chairman@enron.com',\n",
       " 'allison.easton@enron.com',\n",
       " 'erica.fields@enron.com',\n",
       " 'mary.draemer@enron.com',\n",
       " 'allen@enron.com',\n",
       " 'shalesh.ganjoo@enron.com',\n",
       " 'jeff.andrews@enron.com',\n",
       " 'wanda.curry@enron.com',\n",
       " 'kathleen.pope-sance@enron.com',\n",
       " 'orlando.gonzalez@enron.com',\n",
       " 'galen.coon@enron.com',\n",
       " 'rory.calhoun@enron.com',\n",
       " 'tammy.kovalcik@enron.com',\n",
       " 'sandy.sheffield@enron.com',\n",
       " 'suzette.emmons@enron.com',\n",
       " 'tom.engel@enron.com',\n",
       " 'andreas.simou@enron.com',\n",
       " 'akasha.redrick@enron.com',\n",
       " 'bruce.mills@enron.com',\n",
       " 'connie.estrems@enron.com',\n",
       " 'susan.mara@enron.com',\n",
       " 'vince.kaminski@enron.com',\n",
       " 'jeffrey.wilson@enron.com',\n",
       " 'claire.soares@enron.com',\n",
       " 'mcmahon@enron.com',\n",
       " 'torrey.moorer@enron.com',\n",
       " 'debbie.nowak@enron.com',\n",
       " 'mark.knippa@enron.com',\n",
       " 'jose.favela@enron.com',\n",
       " 'neil.carpino@enron.com',\n",
       " 'kathy.link@enron.com',\n",
       " 'gretel.smith@enron.com',\n",
       " 'georgeanne.hodges@enron.com',\n",
       " 'margaret.dhont@enron.com',\n",
       " 'connie.blackwood@enron.com',\n",
       " 'burns@enron.com',\n",
       " 'deborah.kallus@enron.com',\n",
       " 'greg.couch@enron.com',\n",
       " 'darrin.donegan@enron.com',\n",
       " 'kurt.anderson@enron.com',\n",
       " 'frank.lemaster@enron.com',\n",
       " 'paul.parrish@enron.com',\n",
       " 'daniel.quezada@enron.com',\n",
       " 'julius.zajda@enron.com',\n",
       " 'esource@enron.com',\n",
       " 'bob.klein@enron.com',\n",
       " 'gene.morris@enron.com',\n",
       " 'mary.bailey@enron.com',\n",
       " 'amy.quirsfeld@enron.com',\n",
       " 'terry.bye@enron.com',\n",
       " 'catherine.mckalip-thompson@enron.com',\n",
       " 'chris.glaas@enron.com',\n",
       " 'harry.bucalo@enron.com',\n",
       " 'juhani.aalto@enron.com',\n",
       " 'michelle.blaine@enron.com',\n",
       " 'kenneth.krasny@enron.com',\n",
       " 'yzaguirre@enron.com',\n",
       " 'c..gossett@enron.com',\n",
       " 'chris.gaskill@enron.com',\n",
       " 'thu.nguyen@enron.com',\n",
       " 'anne.hicks@enron.com',\n",
       " 'chairman.eim@enron.com',\n",
       " 'suresh.vasan@enron.com',\n",
       " 'andrew.parsons@enron.com',\n",
       " 'christy.lobusch@enron.com',\n",
       " 'shannon.adlong@enron.com',\n",
       " 'mike.barry@enron.com',\n",
       " 'marianne.castano@enron.com',\n",
       " 'frank.jesus@enron.com',\n",
       " 'jesse.alvarado@enron.com',\n",
       " 'rajesh.chandra@enron.com',\n",
       " 'dan.pribble@enron.com',\n",
       " 'nita.garcia@enron.com',\n",
       " 'bryce.schneider@enron.com',\n",
       " 'james.sweet@enron.com',\n",
       " 'ben.jacoby@enron.com',\n",
       " 'j..yanowski@enron.com',\n",
       " 'tanya.rohauer@enron.com',\n",
       " 'gordon.heaney@enron.com',\n",
       " 'bobbie.power@enron.com',\n",
       " 'jacqueline.richard@enron.com',\n",
       " 'mike.grigsby@enron.com',\n",
       " 'matthew.frank@enron.com',\n",
       " 'dinah.schlecht@enron.com',\n",
       " 'rogers.herndon@enron.com',\n",
       " 'karthik.rajan@enron.com',\n",
       " 'sheri.thomas@enron.com',\n",
       " 'jeff.pearson@enron.com',\n",
       " 'morris.clark@enron.com',\n",
       " 'kimberly.carter@enron.com',\n",
       " 'carolyn.green@enron.com',\n",
       " 'costello@enron.com',\n",
       " 'dorothy.mccoppin@enron.com',\n",
       " 'larry.taylor@enron.com',\n",
       " 'sheila.knudsen@enron.com',\n",
       " 'a..roberts@enron.com',\n",
       " 'jean.ryall@enron.com',\n",
       " 'linda.faircloth@enron.com',\n",
       " 'integrated.solutions.center@enron.com',\n",
       " 'kathleen.sullivan@enron.com',\n",
       " 'clare.ellis-wood@enron.com',\n",
       " 'lisa.hesse@enron.com',\n",
       " 'angela.mcculloch@enron.com',\n",
       " 'joyce.dorsey@enron.com',\n",
       " 'jan.dobernecker@enron.com',\n",
       " 'jennifer.blay@enron.com',\n",
       " 'mark.elliott@enron.com',\n",
       " 'central.communication@enron.com',\n",
       " 'errol.mclaughlin@enron.com',\n",
       " 'scott.laidlaw@enron.com',\n",
       " 'justin.rostant@enron.com',\n",
       " 'bruce.smith@enron.com',\n",
       " 'catrina.lucero@enron.com',\n",
       " 'philippe.bibi@enron.com',\n",
       " 'barry.pearce@enron.com',\n",
       " 'cindy.stark@enron.com',\n",
       " 'josh.duncan@enron.com',\n",
       " 'jim.elston@enron.com',\n",
       " 'd.alexander@enron.com',\n",
       " 'chairman.ews@enron.com',\n",
       " 'joni.fisher@enron.com',\n",
       " 'katherine.herrera@enron.com',\n",
       " 'team.andrews@enron.com',\n",
       " 'donald.robinson@enron.com',\n",
       " 'lydia.reeves@enron.com',\n",
       " 'mike.swerzbin@enron.com',\n",
       " 'carol.north@enron.com',\n",
       " 'tana.cashion@enron.com',\n",
       " 'kent.miller@enron.com',\n",
       " 'timmy.ng@enron.com',\n",
       " 'team.cunningham@enron.com',\n",
       " 'sharon.gonzales@enron.com',\n",
       " 'mike.ames@enron.com',\n",
       " 'barton.clark@enron.com',\n",
       " 'dinah.sultanik@enron.com',\n",
       " 'betty.studzinski@enron.com',\n",
       " 'heidi.mason@enron.com',\n",
       " 'mike.sheedy@enron.com',\n",
       " 'juan.samudio@enron.com',\n",
       " '40ees@enron.com',\n",
       " 'ren@enron.com',\n",
       " 'rahul.kumar@enron.com',\n",
       " 'suzanne.christiansen@enron.com',\n",
       " 'cliff.shedd@enron.com',\n",
       " 'paul.dawson@enron.com',\n",
       " 'renee.alfaro@enron.com',\n",
       " 'richard.harper@enron.com',\n",
       " 'robert.anderson@enron.com',\n",
       " 'michael.bilberry@enron.com',\n",
       " 'pinto.leite@enron.com',\n",
       " 'cris.sherman@enron.com',\n",
       " 'administration.enron@enron.com',\n",
       " 'sonnia.reyes@enron.com',\n",
       " 'rick.carson@enron.com',\n",
       " 'tammy.barta@enron.com',\n",
       " 'tribolet@enron.com',\n",
       " 'mary.cilia@enron.com',\n",
       " 'lyle.white@enron.com',\n",
       " 'lester.rawson@enron.com',\n",
       " 'jim.armogida@enron.com',\n",
       " 'kayla.crenshaw@enron.com',\n",
       " 'e..dickson@enron.com',\n",
       " 'doug.leach@enron.com',\n",
       " 'a..bibi@enron.com',\n",
       " 'andrea.calo@enron.com',\n",
       " 'shirley.birch@enron.com',\n",
       " 'brad.aimone@enron.com',\n",
       " 'sophie.martin@enron.com',\n",
       " 'dave.neubauer@enron.com',\n",
       " 'thomas.martin@enron.com',\n",
       " 'gloria.solis@enron.com',\n",
       " 'bill.cordes@enron.com',\n",
       " 'dave.scott@enron.com',\n",
       " \"chenee'.franklin@enron.com\",\n",
       " 'john.oh@enron.com',\n",
       " 'david.forster@enron.com',\n",
       " 'vance.meyer@enron.com',\n",
       " 'laura.harder@enron.com',\n",
       " 'chris.booth@enron.com',\n",
       " 'mark.ng@enron.com',\n",
       " 'eric.thode@enron.com',\n",
       " 'kristen.hanson@enron.com',\n",
       " 'jeffrey.hammad@enron.com',\n",
       " 'cynthia.barrow@enron.com',\n",
       " 'jung-suk.suh@enron.com',\n",
       " 'caroline.barnes@enron.com',\n",
       " 'martha.cormier@enron.com',\n",
       " 'sezgen@enron.com',\n",
       " 'joseph.sutton@enron.com',\n",
       " 'brad.romine@enron.com',\n",
       " 'wilma.low@enron.com',\n",
       " 'mark.greenberg@enron.com',\n",
       " 'jeremy.buss@enron.com',\n",
       " 'executive.office@enron.com',\n",
       " 'lindy.donoho@enron.com',\n",
       " 'brant.reves@enron.com',\n",
       " 'phil.polsky@enron.com',\n",
       " 'paul.burkhart@enron.com',\n",
       " 'maureen.raymond@enron.com',\n",
       " 'megan.scott@enron.com',\n",
       " 'david.roland@enron.com',\n",
       " 'russell.ballato@enron.com',\n",
       " 'theresa.connor-smith@enron.com',\n",
       " 'rajaram.jamadagni@enron.com',\n",
       " 'allan.sommer@enron.com',\n",
       " 'fred.philipson@enron.com',\n",
       " 'velvet.sugarek@enron.com',\n",
       " 'david.jones@enron.com',\n",
       " 'chip.cox@enron.com',\n",
       " 'michael.sullivan@enron.com',\n",
       " 'mustafa.cochinwala@enron.com',\n",
       " 'jeff.youngflesh@enron.com',\n",
       " 'ruth.brown@enron.com',\n",
       " 'susie.wilson@enron.com',\n",
       " 'jim.meyn@enron.com',\n",
       " 'liz.prior@enron.com',\n",
       " 'jana.mills@enron.com',\n",
       " 'john.rigby@enron.com',\n",
       " 'linda.roberts@enron.com',\n",
       " 'patricia.wiederholt@enron.com',\n",
       " 'sylvia.sauseda@enron.com',\n",
       " 'van@enron.com',\n",
       " 'lexi.elliott@enron.com',\n",
       " 'grace.kim@enron.com',\n",
       " 'kelly.lombardi@enron.com',\n",
       " 'gus.eghneim@enron.com',\n",
       " 'chris.abel@enron.com',\n",
       " 'richard.ingersoll@enron.com',\n",
       " 'shanbhogue@enron.com',\n",
       " 'stephen.plauche@enron.com',\n",
       " 'lucy.ortiz@enron.com',\n",
       " 'ethink@enron.com',\n",
       " 'donald.reid@enron.com',\n",
       " 'lola.willis@enron.com',\n",
       " 'l..garcia@enron.com',\n",
       " 'elio.tortolero@enron.com',\n",
       " 'gordon@enron.com',\n",
       " 'eckels@enron.com',\n",
       " 'alicia.perkins@enron.com',\n",
       " 'w..cantrell@enron.com',\n",
       " 'jason.sonnier@enron.com',\n",
       " 'greg.trefz@enron.com',\n",
       " 'monica.hwang@enron.com',\n",
       " 'mark.ruane@enron.com',\n",
       " 'karen.clapper@enron.com',\n",
       " 'christopher.ahn@enron.com',\n",
       " 'juan.padron@enron.com',\n",
       " 'theresa.vos@enron.com',\n",
       " 'virginia.thompson@enron.com',\n",
       " 'caroline.davies@enron.com',\n",
       " 'peggy.menchaca@enron.com',\n",
       " 'john.laborde@enron.com',\n",
       " 'margaret.hall@enron.com',\n",
       " 'roberts@enron.com',\n",
       " 'jeff.shields@enron.com',\n",
       " 'tushar.dhruv@enron.com',\n",
       " 'jo.hill@enron.com',\n",
       " 'a..johnson@enron.com',\n",
       " 'stephen.wallace@enron.com',\n",
       " 'ted.chavez@enron.com',\n",
       " 'marie.taylor@enron.com',\n",
       " 'toni.graham@enron.com',\n",
       " 'todd.bland@enron.com',\n",
       " 'bob.chandler@enron.com',\n",
       " 'colleen.koenig@enron.com',\n",
       " 'connie.sutton@enron.com',\n",
       " 'j.metts@enron.com',\n",
       " 'brendan.devlin@enron.com',\n",
       " 'laura.howenstine@enron.com',\n",
       " 'beth.perlman@enron.com',\n",
       " 'david.hutchinson@enron.com',\n",
       " 'richard.blandford@enron.com',\n",
       " 'gary.spraggins@enron.com',\n",
       " 'randi.howard@enron.com',\n",
       " 'markus.fiala@enron.com',\n",
       " 'andrea.reed@enron.com',\n",
       " 'grabstald@enron.com',\n",
       " 'carmen.perez@enron.com',\n",
       " 'scott.affelt@enron.com',\n",
       " 'dorsey@enron.com',\n",
       " 'rosemary.gracey@enron.com',\n",
       " 'ets.center@enron.com',\n",
       " 'ect.admin@enron.com',\n",
       " 'emy.geraldo@enron.com',\n",
       " 'tanya.valderrama@enron.com',\n",
       " 'matthias.lee@enron.com',\n",
       " 'nick.politis@enron.com',\n",
       " 'kim.melodick@enron.com',\n",
       " 'randy.bryan@enron.com',\n",
       " 'ed.quinn@enron.com',\n",
       " 'lacrecia.davenport@enron.com',\n",
       " 'la.rose@enron.com',\n",
       " 'lori.pinder@enron.com',\n",
       " 'chris.atherton@enron.com',\n",
       " 'veronica.medrano@enron.com',\n",
       " 'tom.newsom@enron.com',\n",
       " 'joseph.lippeatt@enron.com',\n",
       " 'judy.thorne@enron.com',\n",
       " 'sitara@enron.com',\n",
       " 'ava.garcia@enron.com',\n",
       " 'habiba.bayi@enron.com',\n",
       " 'dale.ratliff@enron.com',\n",
       " 'william.bradford@enron.com',\n",
       " 'lisa.burnett@enron.com',\n",
       " 'rich.dimichele@enron.com',\n",
       " 'elyse.kalmans@enron.com',\n",
       " 'dave.kellermeyer@enron.com',\n",
       " 'suketu.patel@enron.com',\n",
       " 'alaadin.suliman@enron.com',\n",
       " 'pallavi.goradia@enron.com',\n",
       " 'brian.steinbrueck@enron.com',\n",
       " 'chris.connelly@enron.com',\n",
       " 'julie.mccoy@enron.com',\n",
       " 'tracy.arthur@enron.com',\n",
       " 'kevin.alvarado@enron.com',\n",
       " 'marc.wharton@enron.com',\n",
       " 'beverly.stephens@enron.com',\n",
       " 'renee.ratcliff@enron.com',\n",
       " 'd..hardeman@enron.com',\n",
       " 'leslie.linares@enron.com',\n",
       " 'kourtney.nelson@enron.com',\n",
       " 'lee.jackson@enron.com',\n",
       " 'andrew.greer@enron.com',\n",
       " 'rita.houston@enron.com',\n",
       " 'leticia.flores@enron.com',\n",
       " 'shari.thompson@enron.com',\n",
       " 'vincent.strohmeyer@enron.com',\n",
       " 'kevin.jolly@enron.com',\n",
       " 'shonnie.daniel@enron.com',\n",
       " 'rob.cone@enron.com',\n",
       " 'zachary.mccarroll@enron.com',\n",
       " 'vance.taylor@enron.com',\n",
       " 'shirley.crenshaw@enron.com',\n",
       " 'ann.chance@enron.com',\n",
       " 'katie.stowers@enron.com',\n",
       " 'max.sonnonstine@enron.com',\n",
       " 'molly.sumrow@enron.com',\n",
       " 'w..vickers@enron.com',\n",
       " 'tani.nath@enron.com',\n",
       " 'jeanne.klein@enron.com',\n",
       " 'brian.terp@enron.com',\n",
       " 'jennifer.stewart@enron.com',\n",
       " \"bridget.d'silva@enron.com\",\n",
       " 'chris.lambert@enron.com',\n",
       " 'jay.blaine@enron.com',\n",
       " 'information.management@enron.com',\n",
       " 'geriann.warner@enron.com',\n",
       " 'samira.ravagnani@enron.com',\n",
       " 'sheila.howard@enron.com',\n",
       " 'sally.beck@enron.com',\n",
       " 'joseph.nieten@enron.com',\n",
       " 'david.portz@enron.com',\n",
       " 'latrisha.allen@enron.com',\n",
       " 'peggy.determeyer@enron.com',\n",
       " 'grant.oh@enron.com',\n",
       " 'kathy.sturr@enron.com',\n",
       " 'cyndi.wulfson@enron.com',\n",
       " 'jackson@enron.com',\n",
       " 'bridget.williams@enron.com',\n",
       " 'marcus.nettelton@enron.com',\n",
       " 'anthony.duenner@enron.com',\n",
       " 'brenda.sells@enron.com',\n",
       " ...}"
      ]
     },
     "execution_count": 59,
     "metadata": {},
     "output_type": "execute_result"
    },
    {
     "name": "stdout",
     "output_type": "stream",
     "text": [
      "time: 17.8 ms\n"
     ]
    }
   ],
   "source": [
    "#Get the unique set of names from senders\n",
    "\n",
    "set(emails['From'])"
   ]
  },
  {
   "cell_type": "code",
   "execution_count": 60,
   "metadata": {},
   "outputs": [
    {
     "name": "stdout",
     "output_type": "stream",
     "text": [
      "time: 339 ms\n"
     ]
    }
   ],
   "source": [
    "# Create function to get the gender based on the first name \n",
    "\n",
    "import gender_guesser.detector as gender\n",
    "d = gender.Detector()\n",
    "\n",
    "def get_gender(email):\n",
    "    name = email.capitalize().split('.')[0]\n",
    "    sex = d.get_gender(name)\n",
    "    return sex"
   ]
  },
  {
   "cell_type": "code",
   "execution_count": 61,
   "metadata": {},
   "outputs": [
    {
     "data": {
      "text/html": [
       "<div>\n",
       "<style scoped>\n",
       "    .dataframe tbody tr th:only-of-type {\n",
       "        vertical-align: middle;\n",
       "    }\n",
       "\n",
       "    .dataframe tbody tr th {\n",
       "        vertical-align: top;\n",
       "    }\n",
       "\n",
       "    .dataframe thead th {\n",
       "        text-align: right;\n",
       "    }\n",
       "</style>\n",
       "<table border=\"1\" class=\"dataframe\">\n",
       "  <thead>\n",
       "    <tr style=\"text-align: right;\">\n",
       "      <th></th>\n",
       "      <th>Date</th>\n",
       "      <th>From</th>\n",
       "      <th>Message-Body</th>\n",
       "      <th>Verbosity</th>\n",
       "      <th>Gender</th>\n",
       "    </tr>\n",
       "  </thead>\n",
       "  <tbody>\n",
       "    <tr>\n",
       "      <th>0</th>\n",
       "      <td>2001-05-14</td>\n",
       "      <td>phillip.allen@enron.com</td>\n",
       "      <td>forecast</td>\n",
       "      <td>0</td>\n",
       "      <td>male</td>\n",
       "    </tr>\n",
       "    <tr>\n",
       "      <th>1</th>\n",
       "      <td>2001-05-04</td>\n",
       "      <td>phillip.allen@enron.com</td>\n",
       "      <td>better turn honest far suggestion waiting nece...</td>\n",
       "      <td>51</td>\n",
       "      <td>male</td>\n",
       "    </tr>\n",
       "    <tr>\n",
       "      <th>2</th>\n",
       "      <td>2000-10-18</td>\n",
       "      <td>phillip.allen@enron.com</td>\n",
       "      <td>successful way go test</td>\n",
       "      <td>3</td>\n",
       "      <td>male</td>\n",
       "    </tr>\n",
       "    <tr>\n",
       "      <th>3</th>\n",
       "      <td>2000-10-23</td>\n",
       "      <td>phillip.allen@enron.com</td>\n",
       "      <td>made example need everyone schedule salary sen...</td>\n",
       "      <td>10</td>\n",
       "      <td>male</td>\n",
       "    </tr>\n",
       "    <tr>\n",
       "      <th>4</th>\n",
       "      <td>2000-08-31</td>\n",
       "      <td>phillip.allen@enron.com</td>\n",
       "      <td>shoot let</td>\n",
       "      <td>1</td>\n",
       "      <td>male</td>\n",
       "    </tr>\n",
       "  </tbody>\n",
       "</table>\n",
       "</div>"
      ],
      "text/plain": [
       "         Date                     From  \\\n",
       "0  2001-05-14  phillip.allen@enron.com   \n",
       "1  2001-05-04  phillip.allen@enron.com   \n",
       "2  2000-10-18  phillip.allen@enron.com   \n",
       "3  2000-10-23  phillip.allen@enron.com   \n",
       "4  2000-08-31  phillip.allen@enron.com   \n",
       "\n",
       "                                        Message-Body  Verbosity Gender  \n",
       "0                                           forecast          0   male  \n",
       "1  better turn honest far suggestion waiting nece...         51   male  \n",
       "2                             successful way go test          3   male  \n",
       "3  made example need everyone schedule salary sen...         10   male  \n",
       "4                                          shoot let          1   male  "
      ]
     },
     "execution_count": 61,
     "metadata": {},
     "output_type": "execute_result"
    },
    {
     "name": "stdout",
     "output_type": "stream",
     "text": [
      "time: 1.31 s\n"
     ]
    }
   ],
   "source": [
    "# Get gender and add new column\n",
    "\n",
    "emails['Gender'] = emails['From'].apply(get_gender)\n",
    "\n",
    "emails.head()"
   ]
  },
  {
   "cell_type": "code",
   "execution_count": 62,
   "metadata": {},
   "outputs": [
    {
     "name": "stdout",
     "output_type": "stream",
     "text": [
      "The percentage of male emails was:  0.49622405541258807\n",
      "The percentage of female emails was:  0.275651971748559\n",
      "The percentage of unknown emails was:  0.13795425575410664\n",
      "The percentage of mostly_male emails was:  0.04704297842660959\n",
      "The percentage of mostly_female emails was:  0.040016194072328176\n",
      "The percentage of androgynous emails was:  0.0031105445858085412\n"
     ]
    },
    {
     "data": {
      "image/png": "[encoded data removed]",
      "text/plain": [
       "<Figure size 432x288 with 1 Axes>"
      ]
     },
     "metadata": {
      "needs_background": "light"
     },
     "output_type": "display_data"
    },
    {
     "name": "stdout",
     "output_type": "stream",
     "text": [
      "time: 339 ms\n"
     ]
    }
   ],
   "source": [
    "# Review statsitics for Gender in the df\n",
    "\n",
    "emails['Gender'].value_counts().plot(kind='bar')\n",
    "\n",
    "print (\"The percentage of male emails was: \", sum(emails['Gender']=='male') / 249474)\n",
    "print (\"The percentage of female emails was: \", sum(emails['Gender']=='female') / 249474)\n",
    "print (\"The percentage of unknown emails was: \", sum(emails['Gender']=='unknown') / 249474)\n",
    "print (\"The percentage of mostly_male emails was: \", sum(emails['Gender']=='mostly_male') / 249474)\n",
    "print (\"The percentage of mostly_female emails was: \", sum(emails['Gender']=='mostly_female') / 249474)\n",
    "print (\"The percentage of androgynous emails was: \", sum(emails['Gender']=='andy') / 249474)"
   ]
  },
  {
   "cell_type": "markdown",
   "metadata": {},
   "source": [
    "# Add Stock Price Label"
   ]
  },
  {
   "cell_type": "raw",
   "metadata": {},
   "source": [
    "The crash of the stock price went like this:\n",
    "\n",
    "| Range         | Year          | High  |\n",
    "| ------------- | ------------- | ----- |\n",
    "| 08/23 - 10/23 | 2000          | $90   |\n",
    "| 10/23 - 12/23 | 2000          | $83   |\n",
    "| 12/23 - 02/23 | 2001          | $85   |\n",
    "| 02/23 - 04/23 | 2001          | $70   |\n",
    "| 04/23 - 06/23 | 2001          | $62   |\n",
    "| 06/23 - 08/23 | 2001          | $50   |\n",
    "| 08/23 - 10/23 | 2001          | $36   |\n",
    "| 10/23 - 12/23 | 2001          | $20   |"
   ]
  },
  {
   "cell_type": "code",
   "execution_count": 63,
   "metadata": {},
   "outputs": [
    {
     "name": "stdout",
     "output_type": "stream",
     "text": [
      "time: 2.02 ms\n"
     ]
    }
   ],
   "source": [
    "# Convert relevant stockdates into dataframe/datetime format\n",
    "\n",
    "date_list = ['2000-08-23', '2000-10-23', '2000-12-23', '2001-02-23', '2001-04-23', '2001-06-23', '2001-08-23', '2001-10-23', '2001-12-23']\n",
    "date_list = pd.DataFrame({'stock_dates':date_list})\n",
    "date_list['stock_dates'] = pd.to_datetime(date_list['stock_dates']).dt.date"
   ]
  },
  {
   "cell_type": "code",
   "execution_count": 64,
   "metadata": {},
   "outputs": [
    {
     "name": "stdout",
     "output_type": "stream",
     "text": [
      "time: 2.78 ms\n"
     ]
    }
   ],
   "source": [
    "# Write a function that gets the stock price for different date ranges\n",
    "\n",
    "def get_stockprice(date):\n",
    "    if   date >= date_list['stock_dates'].loc[0] and  date < date_list['stock_dates'].loc[1]:\n",
    "        price = 90\n",
    "    elif date >= date_list['stock_dates'].loc[1] and  date < date_list['stock_dates'].loc[2]:\n",
    "        price = 83\n",
    "    elif date >= date_list['stock_dates'].loc[2] and  date < date_list['stock_dates'].loc[3]:\n",
    "        price = 85\n",
    "    elif date >= date_list['stock_dates'].loc[3] and  date < date_list['stock_dates'].loc[4]:\n",
    "        price = 70\n",
    "    elif date >= date_list['stock_dates'].loc[4] and  date < date_list['stock_dates'].loc[5]:\n",
    "        price = 62\n",
    "    elif date >= date_list['stock_dates'].loc[5] and  date < date_list['stock_dates'].loc[6]:\n",
    "        price = 50\n",
    "    elif date >= date_list['stock_dates'].loc[6] and  date < date_list['stock_dates'].loc[7]:\n",
    "        price = 36\n",
    "    elif date >= date_list['stock_dates'].loc[7] and  date < date_list['stock_dates'].loc[8]:\n",
    "        price = 20\n",
    "    else:\n",
    "        price = None\n",
    "    return price "
   ]
  },
  {
   "cell_type": "code",
   "execution_count": 65,
   "metadata": {},
   "outputs": [
    {
     "data": {
      "text/html": [
       "<div>\n",
       "<style scoped>\n",
       "    .dataframe tbody tr th:only-of-type {\n",
       "        vertical-align: middle;\n",
       "    }\n",
       "\n",
       "    .dataframe tbody tr th {\n",
       "        vertical-align: top;\n",
       "    }\n",
       "\n",
       "    .dataframe thead th {\n",
       "        text-align: right;\n",
       "    }\n",
       "</style>\n",
       "<table border=\"1\" class=\"dataframe\">\n",
       "  <thead>\n",
       "    <tr style=\"text-align: right;\">\n",
       "      <th></th>\n",
       "      <th>Date</th>\n",
       "      <th>From</th>\n",
       "      <th>Message-Body</th>\n",
       "      <th>Verbosity</th>\n",
       "      <th>Gender</th>\n",
       "      <th>Stock</th>\n",
       "    </tr>\n",
       "  </thead>\n",
       "  <tbody>\n",
       "    <tr>\n",
       "      <th>0</th>\n",
       "      <td>2001-05-14</td>\n",
       "      <td>phillip.allen@enron.com</td>\n",
       "      <td>forecast</td>\n",
       "      <td>0</td>\n",
       "      <td>male</td>\n",
       "      <td>62.0</td>\n",
       "    </tr>\n",
       "    <tr>\n",
       "      <th>1</th>\n",
       "      <td>2001-05-04</td>\n",
       "      <td>phillip.allen@enron.com</td>\n",
       "      <td>better turn honest far suggestion waiting nece...</td>\n",
       "      <td>51</td>\n",
       "      <td>male</td>\n",
       "      <td>62.0</td>\n",
       "    </tr>\n",
       "    <tr>\n",
       "      <th>2</th>\n",
       "      <td>2000-10-18</td>\n",
       "      <td>phillip.allen@enron.com</td>\n",
       "      <td>successful way go test</td>\n",
       "      <td>3</td>\n",
       "      <td>male</td>\n",
       "      <td>90.0</td>\n",
       "    </tr>\n",
       "    <tr>\n",
       "      <th>3</th>\n",
       "      <td>2000-10-23</td>\n",
       "      <td>phillip.allen@enron.com</td>\n",
       "      <td>made example need everyone schedule salary sen...</td>\n",
       "      <td>10</td>\n",
       "      <td>male</td>\n",
       "      <td>83.0</td>\n",
       "    </tr>\n",
       "    <tr>\n",
       "      <th>4</th>\n",
       "      <td>2000-08-31</td>\n",
       "      <td>phillip.allen@enron.com</td>\n",
       "      <td>shoot let</td>\n",
       "      <td>1</td>\n",
       "      <td>male</td>\n",
       "      <td>90.0</td>\n",
       "    </tr>\n",
       "  </tbody>\n",
       "</table>\n",
       "</div>"
      ],
      "text/plain": [
       "         Date                     From  \\\n",
       "0  2001-05-14  phillip.allen@enron.com   \n",
       "1  2001-05-04  phillip.allen@enron.com   \n",
       "2  2000-10-18  phillip.allen@enron.com   \n",
       "3  2000-10-23  phillip.allen@enron.com   \n",
       "4  2000-08-31  phillip.allen@enron.com   \n",
       "\n",
       "                                        Message-Body  Verbosity Gender  Stock  \n",
       "0                                           forecast          0   male   62.0  \n",
       "1  better turn honest far suggestion waiting nece...         51   male   62.0  \n",
       "2                             successful way go test          3   male   90.0  \n",
       "3  made example need everyone schedule salary sen...         10   male   83.0  \n",
       "4                                          shoot let          1   male   90.0  "
      ]
     },
     "execution_count": 65,
     "metadata": {},
     "output_type": "execute_result"
    },
    {
     "name": "stdout",
     "output_type": "stream",
     "text": [
      "time: 54.2 s\n"
     ]
    }
   ],
   "source": [
    "# Get stock price and add new column\n",
    "\n",
    "emails['Stock'] = emails['Date'].apply(get_stockprice)\n",
    "\n",
    "emails.head()"
   ]
  },
  {
   "cell_type": "code",
   "execution_count": 66,
   "metadata": {},
   "outputs": [
    {
     "data": {
      "text/plain": [
       "<matplotlib.axes._subplots.AxesSubplot at 0x1a29902710>"
      ]
     },
     "execution_count": 66,
     "metadata": {},
     "output_type": "execute_result"
    },
    {
     "data": {
      "image/png": "[encoded data removed]",
      "text/plain": [
       "<Figure size 432x288 with 1 Axes>"
      ]
     },
     "metadata": {
      "needs_background": "light"
     },
     "output_type": "display_data"
    },
    {
     "name": "stdout",
     "output_type": "stream",
     "text": [
      "time: 156 ms\n"
     ]
    }
   ],
   "source": [
    "# Visualize histogram for stockprice  \n",
    "\n",
    "emails['Stock'].value_counts().plot(kind='bar')"
   ]
  },
  {
   "cell_type": "markdown",
   "metadata": {},
   "source": [
    "# Add Sentiment Label"
   ]
  },
  {
   "cell_type": "code",
   "execution_count": 67,
   "metadata": {},
   "outputs": [
    {
     "name": "stdout",
     "output_type": "stream",
     "text": [
      "time: 84.5 ms\n"
     ]
    }
   ],
   "source": [
    "# Reduce the dataset down to those emails during the stock descent\n",
    "\n",
    "emails = emails[ emails['Stock'].notnull()]"
   ]
  },
  {
   "cell_type": "code",
   "execution_count": 68,
   "metadata": {},
   "outputs": [
    {
     "data": {
      "text/plain": [
       "(185680, 6)"
      ]
     },
     "execution_count": 68,
     "metadata": {},
     "output_type": "execute_result"
    },
    {
     "name": "stdout",
     "output_type": "stream",
     "text": [
      "time: 2.23 ms\n"
     ]
    }
   ],
   "source": [
    "# New shape\n",
    "\n",
    "emails.shape"
   ]
  },
  {
   "cell_type": "code",
   "execution_count": 69,
   "metadata": {},
   "outputs": [
    {
     "name": "stdout",
     "output_type": "stream",
     "text": [
      "time: 1.26 ms\n"
     ]
    }
   ],
   "source": [
    "# Write function to get the senitment or polarity and subjectivity \n",
    "\n",
    "def get_sentiment_fastest(message):\n",
    "    score1 = TextBlob(message).sentiment[0]\n",
    "    score2 = TextBlob(message).sentiment[1]\n",
    "    return [score1, score2]"
   ]
  },
  {
   "cell_type": "code",
   "execution_count": 70,
   "metadata": {},
   "outputs": [
    {
     "data": {
      "text/html": [
       "<div>\n",
       "<style scoped>\n",
       "    .dataframe tbody tr th:only-of-type {\n",
       "        vertical-align: middle;\n",
       "    }\n",
       "\n",
       "    .dataframe tbody tr th {\n",
       "        vertical-align: top;\n",
       "    }\n",
       "\n",
       "    .dataframe thead th {\n",
       "        text-align: right;\n",
       "    }\n",
       "</style>\n",
       "<table border=\"1\" class=\"dataframe\">\n",
       "  <thead>\n",
       "    <tr style=\"text-align: right;\">\n",
       "      <th></th>\n",
       "      <th>Date</th>\n",
       "      <th>From</th>\n",
       "      <th>Message-Body</th>\n",
       "      <th>Verbosity</th>\n",
       "      <th>Gender</th>\n",
       "      <th>Stock</th>\n",
       "      <th>Scores</th>\n",
       "    </tr>\n",
       "  </thead>\n",
       "  <tbody>\n",
       "    <tr>\n",
       "      <th>0</th>\n",
       "      <td>2001-05-14</td>\n",
       "      <td>phillip.allen@enron.com</td>\n",
       "      <td>forecast</td>\n",
       "      <td>0</td>\n",
       "      <td>male</td>\n",
       "      <td>62.0</td>\n",
       "      <td>[0.0, 0.0]</td>\n",
       "    </tr>\n",
       "    <tr>\n",
       "      <th>1</th>\n",
       "      <td>2001-05-04</td>\n",
       "      <td>phillip.allen@enron.com</td>\n",
       "      <td>better turn honest far suggestion waiting nece...</td>\n",
       "      <td>51</td>\n",
       "      <td>male</td>\n",
       "      <td>62.0</td>\n",
       "      <td>[0.15000000000000002, 0.6133333333333334]</td>\n",
       "    </tr>\n",
       "    <tr>\n",
       "      <th>2</th>\n",
       "      <td>2000-10-18</td>\n",
       "      <td>phillip.allen@enron.com</td>\n",
       "      <td>successful way go test</td>\n",
       "      <td>3</td>\n",
       "      <td>male</td>\n",
       "      <td>90.0</td>\n",
       "      <td>[0.75, 0.95]</td>\n",
       "    </tr>\n",
       "    <tr>\n",
       "      <th>3</th>\n",
       "      <td>2000-10-23</td>\n",
       "      <td>phillip.allen@enron.com</td>\n",
       "      <td>made example need everyone schedule salary sen...</td>\n",
       "      <td>10</td>\n",
       "      <td>male</td>\n",
       "      <td>83.0</td>\n",
       "      <td>[0.0, 0.0]</td>\n",
       "    </tr>\n",
       "    <tr>\n",
       "      <th>4</th>\n",
       "      <td>2000-08-31</td>\n",
       "      <td>phillip.allen@enron.com</td>\n",
       "      <td>shoot let</td>\n",
       "      <td>1</td>\n",
       "      <td>male</td>\n",
       "      <td>90.0</td>\n",
       "      <td>[0.0, 0.0]</td>\n",
       "    </tr>\n",
       "  </tbody>\n",
       "</table>\n",
       "</div>"
      ],
      "text/plain": [
       "         Date                     From  \\\n",
       "0  2001-05-14  phillip.allen@enron.com   \n",
       "1  2001-05-04  phillip.allen@enron.com   \n",
       "2  2000-10-18  phillip.allen@enron.com   \n",
       "3  2000-10-23  phillip.allen@enron.com   \n",
       "4  2000-08-31  phillip.allen@enron.com   \n",
       "\n",
       "                                        Message-Body  Verbosity Gender  Stock  \\\n",
       "0                                           forecast          0   male   62.0   \n",
       "1  better turn honest far suggestion waiting nece...         51   male   62.0   \n",
       "2                             successful way go test          3   male   90.0   \n",
       "3  made example need everyone schedule salary sen...         10   male   83.0   \n",
       "4                                          shoot let          1   male   90.0   \n",
       "\n",
       "                                      Scores  \n",
       "0                                 [0.0, 0.0]  \n",
       "1  [0.15000000000000002, 0.6133333333333334]  \n",
       "2                               [0.75, 0.95]  \n",
       "3                                 [0.0, 0.0]  \n",
       "4                                 [0.0, 0.0]  "
      ]
     },
     "execution_count": 70,
     "metadata": {},
     "output_type": "execute_result"
    },
    {
     "name": "stdout",
     "output_type": "stream",
     "text": [
      "time: 1min 29s\n"
     ]
    }
   ],
   "source": [
    "# Execute the function\n",
    "\n",
    "emails['Scores'] = emails['Message-Body'].apply(get_sentiment_fastest)\n",
    "\n",
    "emails.head()"
   ]
  },
  {
   "cell_type": "code",
   "execution_count": 71,
   "metadata": {},
   "outputs": [
    {
     "name": "stdout",
     "output_type": "stream",
     "text": [
      "time: 330 ms\n"
     ]
    }
   ],
   "source": [
    "# Convert list to string  \n",
    "\n",
    "emails['Scores'] = [','.join(map(str, l)) for l in emails['Scores']]"
   ]
  },
  {
   "cell_type": "code",
   "execution_count": 72,
   "metadata": {},
   "outputs": [
    {
     "data": {
      "text/html": [
       "<div>\n",
       "<style scoped>\n",
       "    .dataframe tbody tr th:only-of-type {\n",
       "        vertical-align: middle;\n",
       "    }\n",
       "\n",
       "    .dataframe tbody tr th {\n",
       "        vertical-align: top;\n",
       "    }\n",
       "\n",
       "    .dataframe thead th {\n",
       "        text-align: right;\n",
       "    }\n",
       "</style>\n",
       "<table border=\"1\" class=\"dataframe\">\n",
       "  <thead>\n",
       "    <tr style=\"text-align: right;\">\n",
       "      <th></th>\n",
       "      <th>Date</th>\n",
       "      <th>From</th>\n",
       "      <th>Message-Body</th>\n",
       "      <th>Verbosity</th>\n",
       "      <th>Gender</th>\n",
       "      <th>Stock</th>\n",
       "      <th>Scores</th>\n",
       "      <th>Polarity</th>\n",
       "      <th>Subjectivity</th>\n",
       "    </tr>\n",
       "  </thead>\n",
       "  <tbody>\n",
       "    <tr>\n",
       "      <th>0</th>\n",
       "      <td>2001-05-14</td>\n",
       "      <td>phillip.allen@enron.com</td>\n",
       "      <td>forecast</td>\n",
       "      <td>0</td>\n",
       "      <td>male</td>\n",
       "      <td>62.0</td>\n",
       "      <td>0.0,0.0</td>\n",
       "      <td>0.00</td>\n",
       "      <td>0.000000</td>\n",
       "    </tr>\n",
       "    <tr>\n",
       "      <th>1</th>\n",
       "      <td>2001-05-04</td>\n",
       "      <td>phillip.allen@enron.com</td>\n",
       "      <td>better turn honest far suggestion waiting nece...</td>\n",
       "      <td>51</td>\n",
       "      <td>male</td>\n",
       "      <td>62.0</td>\n",
       "      <td>0.15000000000000002,0.6133333333333334</td>\n",
       "      <td>0.15</td>\n",
       "      <td>0.613333</td>\n",
       "    </tr>\n",
       "    <tr>\n",
       "      <th>2</th>\n",
       "      <td>2000-10-18</td>\n",
       "      <td>phillip.allen@enron.com</td>\n",
       "      <td>successful way go test</td>\n",
       "      <td>3</td>\n",
       "      <td>male</td>\n",
       "      <td>90.0</td>\n",
       "      <td>0.75,0.95</td>\n",
       "      <td>0.75</td>\n",
       "      <td>0.950000</td>\n",
       "    </tr>\n",
       "    <tr>\n",
       "      <th>3</th>\n",
       "      <td>2000-10-23</td>\n",
       "      <td>phillip.allen@enron.com</td>\n",
       "      <td>made example need everyone schedule salary sen...</td>\n",
       "      <td>10</td>\n",
       "      <td>male</td>\n",
       "      <td>83.0</td>\n",
       "      <td>0.0,0.0</td>\n",
       "      <td>0.00</td>\n",
       "      <td>0.000000</td>\n",
       "    </tr>\n",
       "    <tr>\n",
       "      <th>4</th>\n",
       "      <td>2000-08-31</td>\n",
       "      <td>phillip.allen@enron.com</td>\n",
       "      <td>shoot let</td>\n",
       "      <td>1</td>\n",
       "      <td>male</td>\n",
       "      <td>90.0</td>\n",
       "      <td>0.0,0.0</td>\n",
       "      <td>0.00</td>\n",
       "      <td>0.000000</td>\n",
       "    </tr>\n",
       "  </tbody>\n",
       "</table>\n",
       "</div>"
      ],
      "text/plain": [
       "         Date                     From  \\\n",
       "0  2001-05-14  phillip.allen@enron.com   \n",
       "1  2001-05-04  phillip.allen@enron.com   \n",
       "2  2000-10-18  phillip.allen@enron.com   \n",
       "3  2000-10-23  phillip.allen@enron.com   \n",
       "4  2000-08-31  phillip.allen@enron.com   \n",
       "\n",
       "                                        Message-Body  Verbosity Gender  Stock  \\\n",
       "0                                           forecast          0   male   62.0   \n",
       "1  better turn honest far suggestion waiting nece...         51   male   62.0   \n",
       "2                             successful way go test          3   male   90.0   \n",
       "3  made example need everyone schedule salary sen...         10   male   83.0   \n",
       "4                                          shoot let          1   male   90.0   \n",
       "\n",
       "                                   Scores  Polarity  Subjectivity  \n",
       "0                                 0.0,0.0      0.00      0.000000  \n",
       "1  0.15000000000000002,0.6133333333333334      0.15      0.613333  \n",
       "2                               0.75,0.95      0.75      0.950000  \n",
       "3                                 0.0,0.0      0.00      0.000000  \n",
       "4                                 0.0,0.0      0.00      0.000000  "
      ]
     },
     "execution_count": 72,
     "metadata": {},
     "output_type": "execute_result"
    },
    {
     "name": "stdout",
     "output_type": "stream",
     "text": [
      "time: 586 ms\n"
     ]
    }
   ],
   "source": [
    "# Split score into measures and convert to numeric \n",
    "\n",
    "emails['Polarity'], emails['Subjectivity'] = emails['Scores'].str.split(',', 1).str\n",
    "emails['Polarity'] = pd.to_numeric(emails['Polarity'])\n",
    "emails['Subjectivity'] = pd.to_numeric(emails['Subjectivity'])\n",
    "\n",
    "emails.head()"
   ]
  },
  {
   "cell_type": "code",
   "execution_count": 73,
   "metadata": {},
   "outputs": [
    {
     "name": "stdout",
     "output_type": "stream",
     "text": [
      "time: 83.5 ms\n"
     ]
    }
   ],
   "source": [
    "# Drop the scores \n",
    "\n",
    "emails = emails.drop(['Scores'], axis=1)"
   ]
  },
  {
   "cell_type": "code",
   "execution_count": 74,
   "metadata": {},
   "outputs": [
    {
     "name": "stdout",
     "output_type": "stream",
     "text": [
      "time: 267 µs\n"
     ]
    }
   ],
   "source": [
    "# Create csv as a checkpoint\n",
    "\n",
    "#emails.to_csv('emails_v3.csv')"
   ]
  },
  {
   "cell_type": "markdown",
   "metadata": {},
   "source": [
    "# Sampling and Export for Keras"
   ]
  },
  {
   "cell_type": "code",
   "execution_count": 75,
   "metadata": {},
   "outputs": [
    {
     "name": "stdout",
     "output_type": "stream",
     "text": [
      "time: 243 ms\n"
     ]
    }
   ],
   "source": [
    "# Duplicate of emails df\n",
    "emails_sampler = emails.iloc[:]\n",
    "\n",
    "\n",
    "# Change gender, stock, and sentiment to binary\n",
    "emails_sampler['Gender'] = emails_sampler['Gender'].apply( lambda x: 1 if x == 'male' else 0 if x == 'female' else 3 )\n",
    "emails_sampler['Polarity'] = emails_sampler['Polarity'].apply( lambda x: 0 if x < 0 else 1 )\n",
    "emails_sampler['Stock'] = emails_sampler['Stock'].apply( lambda x: 0 if x < 45 else 1 )\n",
    "\n",
    "# Remove non-distinct genders\n",
    "emails_sampler = emails_sampler[ emails_sampler['Gender'] < 2 ]\n",
    "\n",
    "# Create 1000 row samples\n",
    "emails_gender_sample = emails_sampler.sample(3000)\n",
    "emails_stock_sample = emails_sampler.sample(3000)\n",
    "emails_sentiment_sample = emails_sampler.sample(3000)"
   ]
  },
  {
   "cell_type": "code",
   "execution_count": 76,
   "metadata": {},
   "outputs": [
    {
     "name": "stdout",
     "output_type": "stream",
     "text": [
      "time: 4.83 ms\n"
     ]
    }
   ],
   "source": [
    "# Drop unnecessary columns\n",
    "\n",
    "emails_gender_sample = emails_gender_sample.drop(['Date', 'From', 'Verbosity', 'Stock', 'Polarity', 'Subjectivity'], axis=1)\n",
    "emails_stock_sample = emails_stock_sample.drop(['Date', 'From', 'Verbosity', 'Gender', 'Polarity', 'Subjectivity'], axis=1)\n",
    "emails_sentiment_sample = emails_sentiment_sample.drop(['Date', 'From', 'Verbosity', 'Stock', 'Gender', 'Subjectivity'], axis=1)"
   ]
  },
  {
   "cell_type": "code",
   "execution_count": 77,
   "metadata": {},
   "outputs": [
    {
     "data": {
      "text/html": [
       "<div>\n",
       "<style scoped>\n",
       "    .dataframe tbody tr th:only-of-type {\n",
       "        vertical-align: middle;\n",
       "    }\n",
       "\n",
       "    .dataframe tbody tr th {\n",
       "        vertical-align: top;\n",
       "    }\n",
       "\n",
       "    .dataframe thead th {\n",
       "        text-align: right;\n",
       "    }\n",
       "</style>\n",
       "<table border=\"1\" class=\"dataframe\">\n",
       "  <thead>\n",
       "    <tr style=\"text-align: right;\">\n",
       "      <th></th>\n",
       "      <th>Message-Body</th>\n",
       "      <th>Gender</th>\n",
       "    </tr>\n",
       "  </thead>\n",
       "  <tbody>\n",
       "    <tr>\n",
       "      <th>134081</th>\n",
       "      <td>whiting problem meeting pam</td>\n",
       "      <td>1</td>\n",
       "    </tr>\n",
       "    <tr>\n",
       "      <th>158354</th>\n",
       "      <td>mark folder date crawler schedule slinger fina...</td>\n",
       "      <td>1</td>\n",
       "    </tr>\n",
       "    <tr>\n",
       "      <th>155505</th>\n",
       "      <td>change</td>\n",
       "      <td>1</td>\n",
       "    </tr>\n",
       "    <tr>\n",
       "      <th>117205</th>\n",
       "      <td>barry folder smith pst version walter u lisk p...</td>\n",
       "      <td>1</td>\n",
       "    </tr>\n",
       "    <tr>\n",
       "      <th>142377</th>\n",
       "      <td>send trust one chase know market executed let ...</td>\n",
       "      <td>0</td>\n",
       "    </tr>\n",
       "  </tbody>\n",
       "</table>\n",
       "</div>"
      ],
      "text/plain": [
       "                                             Message-Body  Gender\n",
       "134081                        whiting problem meeting pam       1\n",
       "158354  mark folder date crawler schedule slinger fina...       1\n",
       "155505                                             change       1\n",
       "117205  barry folder smith pst version walter u lisk p...       1\n",
       "142377  send trust one chase know market executed let ...       0"
      ]
     },
     "execution_count": 77,
     "metadata": {},
     "output_type": "execute_result"
    },
    {
     "name": "stdout",
     "output_type": "stream",
     "text": [
      "time: 5.76 ms\n"
     ]
    }
   ],
   "source": [
    "emails_gender_sample.head()"
   ]
  },
  {
   "cell_type": "code",
   "execution_count": 25,
   "metadata": {},
   "outputs": [
    {
     "data": {
      "text/html": [
       "<div>\n",
       "<style scoped>\n",
       "    .dataframe tbody tr th:only-of-type {\n",
       "        vertical-align: middle;\n",
       "    }\n",
       "\n",
       "    .dataframe tbody tr th {\n",
       "        vertical-align: top;\n",
       "    }\n",
       "\n",
       "    .dataframe thead th {\n",
       "        text-align: right;\n",
       "    }\n",
       "</style>\n",
       "<table border=\"1\" class=\"dataframe\">\n",
       "  <thead>\n",
       "    <tr style=\"text-align: right;\">\n",
       "      <th></th>\n",
       "      <th>Message-Body</th>\n",
       "      <th>Stock</th>\n",
       "    </tr>\n",
       "  </thead>\n",
       "  <tbody>\n",
       "    <tr>\n",
       "      <th>59302</th>\n",
       "      <td>want proxy let storage per could fuel page ple...</td>\n",
       "      <td>1</td>\n",
       "    </tr>\n",
       "    <tr>\n",
       "      <th>49804</th>\n",
       "      <td>see thanks good know added farmer mike billing...</td>\n",
       "      <td>1</td>\n",
       "    </tr>\n",
       "    <tr>\n",
       "      <th>81274</th>\n",
       "      <td>mark scrimshaw weekly er upon th attend remote...</td>\n",
       "      <td>1</td>\n",
       "    </tr>\n",
       "    <tr>\n",
       "      <th>245882</th>\n",
       "      <td>final ancillary iso hour mark folder x schedul...</td>\n",
       "      <td>0</td>\n",
       "    </tr>\n",
       "    <tr>\n",
       "      <th>118327</th>\n",
       "      <td>working</td>\n",
       "      <td>1</td>\n",
       "    </tr>\n",
       "  </tbody>\n",
       "</table>\n",
       "</div>"
      ],
      "text/plain": [
       "                                             Message-Body  Stock\n",
       "59302   want proxy let storage per could fuel page ple...      1\n",
       "49804   see thanks good know added farmer mike billing...      1\n",
       "81274   mark scrimshaw weekly er upon th attend remote...      1\n",
       "245882  final ancillary iso hour mark folder x schedul...      0\n",
       "118327                                            working      1"
      ]
     },
     "execution_count": 25,
     "metadata": {},
     "output_type": "execute_result"
    },
    {
     "name": "stdout",
     "output_type": "stream",
     "text": [
      "time: 6.09 ms\n"
     ]
    }
   ],
   "source": [
    "emails_stock_sample.head()"
   ]
  },
  {
   "cell_type": "code",
   "execution_count": 26,
   "metadata": {},
   "outputs": [
    {
     "data": {
      "text/html": [
       "<div>\n",
       "<style scoped>\n",
       "    .dataframe tbody tr th:only-of-type {\n",
       "        vertical-align: middle;\n",
       "    }\n",
       "\n",
       "    .dataframe tbody tr th {\n",
       "        vertical-align: top;\n",
       "    }\n",
       "\n",
       "    .dataframe thead th {\n",
       "        text-align: right;\n",
       "    }\n",
       "</style>\n",
       "<table border=\"1\" class=\"dataframe\">\n",
       "  <thead>\n",
       "    <tr style=\"text-align: right;\">\n",
       "      <th></th>\n",
       "      <th>Message-Body</th>\n",
       "      <th>Polarity</th>\n",
       "    </tr>\n",
       "  </thead>\n",
       "  <tbody>\n",
       "    <tr>\n",
       "      <th>144324</th>\n",
       "      <td>request per</td>\n",
       "      <td>1</td>\n",
       "    </tr>\n",
       "    <tr>\n",
       "      <th>153119</th>\n",
       "      <td>interest think</td>\n",
       "      <td>1</td>\n",
       "    </tr>\n",
       "    <tr>\n",
       "      <th>156983</th>\n",
       "      <td>swap corp showing also told know kim let subje...</td>\n",
       "      <td>1</td>\n",
       "    </tr>\n",
       "    <tr>\n",
       "      <th>71265</th>\n",
       "      <td>mark folder date crawler invalid schedule vari...</td>\n",
       "      <td>1</td>\n",
       "    </tr>\n",
       "    <tr>\n",
       "      <th>118377</th>\n",
       "      <td>swap price index monthly basis</td>\n",
       "      <td>1</td>\n",
       "    </tr>\n",
       "  </tbody>\n",
       "</table>\n",
       "</div>"
      ],
      "text/plain": [
       "                                             Message-Body  Polarity\n",
       "144324                                        request per         1\n",
       "153119                                     interest think         1\n",
       "156983  swap corp showing also told know kim let subje...         1\n",
       "71265   mark folder date crawler invalid schedule vari...         1\n",
       "118377                     swap price index monthly basis         1"
      ]
     },
     "execution_count": 26,
     "metadata": {},
     "output_type": "execute_result"
    },
    {
     "name": "stdout",
     "output_type": "stream",
     "text": [
      "time: 7.17 ms\n"
     ]
    }
   ],
   "source": [
    "emails_sentiment_sample.head()"
   ]
  },
  {
   "cell_type": "code",
   "execution_count": 79,
   "metadata": {},
   "outputs": [
    {
     "name": "stdout",
     "output_type": "stream",
     "text": [
      "time: 704 µs\n"
     ]
    }
   ],
   "source": [
    "emails_gender_sample_A = emails_gender_sample[:1000]"
   ]
  },
  {
   "cell_type": "code",
   "execution_count": 80,
   "metadata": {},
   "outputs": [
    {
     "data": {
      "text/plain": [
       "(1000, 2)"
      ]
     },
     "execution_count": 80,
     "metadata": {},
     "output_type": "execute_result"
    },
    {
     "name": "stdout",
     "output_type": "stream",
     "text": [
      "time: 2.47 ms\n"
     ]
    }
   ],
   "source": [
    "emails_gender_sample_A.shape"
   ]
  },
  {
   "cell_type": "code",
   "execution_count": 81,
   "metadata": {},
   "outputs": [
    {
     "name": "stdout",
     "output_type": "stream",
     "text": [
      "time: 9.08 ms\n"
     ]
    }
   ],
   "source": [
    "emails_gender_sample_A.to_csv('genderA.csv', index=False, header=False)"
   ]
  },
  {
   "cell_type": "code",
   "execution_count": 78,
   "metadata": {},
   "outputs": [
    {
     "name": "stdout",
     "output_type": "stream",
     "text": [
      "time: 22.7 ms\n"
     ]
    }
   ],
   "source": [
    "# Generate CSV files for Keras\n",
    "\n",
    "# emails_gender_sample.to_csv('gender_A.csv', index=False, header=False)\n",
    "#emails_stock_sample.to_csv('stock_labelled.csv_final', index=False, header=False)\n",
    "#emails_sentiment_sample.to_csv('sentiment_labelled.csv_final', index=False, header=False)"
   ]
  },
  {
   "cell_type": "markdown",
   "metadata": {},
   "source": [
    "# TF - IDF Experiment"
   ]
  },
  {
   "cell_type": "code",
   "execution_count": 82,
   "metadata": {},
   "outputs": [
    {
     "data": {
      "text/html": [
       "<div>\n",
       "<style scoped>\n",
       "    .dataframe tbody tr th:only-of-type {\n",
       "        vertical-align: middle;\n",
       "    }\n",
       "\n",
       "    .dataframe tbody tr th {\n",
       "        vertical-align: top;\n",
       "    }\n",
       "\n",
       "    .dataframe thead th {\n",
       "        text-align: right;\n",
       "    }\n",
       "</style>\n",
       "<table border=\"1\" class=\"dataframe\">\n",
       "  <thead>\n",
       "    <tr style=\"text-align: right;\">\n",
       "      <th></th>\n",
       "      <th>Message-Body</th>\n",
       "      <th>Gender</th>\n",
       "    </tr>\n",
       "  </thead>\n",
       "  <tbody>\n",
       "    <tr>\n",
       "      <th>134081</th>\n",
       "      <td>whiting problem meeting pam</td>\n",
       "      <td>1</td>\n",
       "    </tr>\n",
       "    <tr>\n",
       "      <th>158354</th>\n",
       "      <td>mark folder date crawler schedule slinger fina...</td>\n",
       "      <td>1</td>\n",
       "    </tr>\n",
       "    <tr>\n",
       "      <th>155505</th>\n",
       "      <td>change</td>\n",
       "      <td>1</td>\n",
       "    </tr>\n",
       "    <tr>\n",
       "      <th>117205</th>\n",
       "      <td>barry folder smith pst version walter u lisk p...</td>\n",
       "      <td>1</td>\n",
       "    </tr>\n",
       "    <tr>\n",
       "      <th>142377</th>\n",
       "      <td>send trust one chase know market executed let ...</td>\n",
       "      <td>0</td>\n",
       "    </tr>\n",
       "  </tbody>\n",
       "</table>\n",
       "</div>"
      ],
      "text/plain": [
       "                                             Message-Body  Gender\n",
       "134081                        whiting problem meeting pam       1\n",
       "158354  mark folder date crawler schedule slinger fina...       1\n",
       "155505                                             change       1\n",
       "117205  barry folder smith pst version walter u lisk p...       1\n",
       "142377  send trust one chase know market executed let ...       0"
      ]
     },
     "execution_count": 82,
     "metadata": {},
     "output_type": "execute_result"
    },
    {
     "name": "stdout",
     "output_type": "stream",
     "text": [
      "time: 6.96 ms\n"
     ]
    }
   ],
   "source": [
    "# Get 1000 sample w/ gender labels\n",
    "\n",
    "emails_gender_sample.head()"
   ]
  },
  {
   "cell_type": "code",
   "execution_count": 83,
   "metadata": {},
   "outputs": [
    {
     "name": "stdout",
     "output_type": "stream",
     "text": [
      "time: 506 µs\n"
     ]
    }
   ],
   "source": [
    "# Import sklearn feature extraction\n",
    "\n",
    "from sklearn.feature_extraction.text import TfidfVectorizer"
   ]
  },
  {
   "cell_type": "code",
   "execution_count": 84,
   "metadata": {},
   "outputs": [
    {
     "name": "stdout",
     "output_type": "stream",
     "text": [
      "time: 3.17 ms\n"
     ]
    }
   ],
   "source": [
    "# Create new df to store the top words\n",
    "\n",
    "col_names =  ['i','top_words']\n",
    "data_tfidf  = pd.DataFrame(columns = col_names)"
   ]
  },
  {
   "cell_type": "code",
   "execution_count": 85,
   "metadata": {},
   "outputs": [
    {
     "name": "stdout",
     "output_type": "stream",
     "text": [
      "time: 84.3 ms\n"
     ]
    }
   ],
   "source": [
    "# Perform the tfidf which increases weight within messages and decreases if common in all messages\n",
    "\n",
    "tfidf = TfidfVectorizer(lowercase=True, analyzer='word', smooth_idf=False, sublinear_tf=False, norm=None,\n",
    "                        stop_words='english', ngram_range=(1,1)) \n",
    "\n",
    "text_transformed = tfidf.fit_transform(emails_gender_sample['Message-Body'])"
   ]
  },
  {
   "cell_type": "code",
   "execution_count": 86,
   "metadata": {},
   "outputs": [
    {
     "data": {
      "text/html": [
       "<div>\n",
       "<style scoped>\n",
       "    .dataframe tbody tr th:only-of-type {\n",
       "        vertical-align: middle;\n",
       "    }\n",
       "\n",
       "    .dataframe tbody tr th {\n",
       "        vertical-align: top;\n",
       "    }\n",
       "\n",
       "    .dataframe thead th {\n",
       "        text-align: right;\n",
       "    }\n",
       "</style>\n",
       "<table border=\"1\" class=\"dataframe\">\n",
       "  <thead>\n",
       "    <tr style=\"text-align: right;\">\n",
       "      <th></th>\n",
       "      <th>i</th>\n",
       "      <th>top_words</th>\n",
       "    </tr>\n",
       "  </thead>\n",
       "  <tbody>\n",
       "    <tr>\n",
       "      <th>0</th>\n",
       "      <td>0</td>\n",
       "      <td>whiting pam problem meeting</td>\n",
       "    </tr>\n",
       "    <tr>\n",
       "      <th>1</th>\n",
       "      <td>1</td>\n",
       "      <td>linder crawler ancillary log dean iso leaf pet...</td>\n",
       "    </tr>\n",
       "    <tr>\n",
       "      <th>2</th>\n",
       "      <td>2</td>\n",
       "      <td>change</td>\n",
       "    </tr>\n",
       "    <tr>\n",
       "      <th>3</th>\n",
       "      <td>3</td>\n",
       "      <td>lisk conner brewer shelly benjamin walter mog ...</td>\n",
       "    </tr>\n",
       "    <tr>\n",
       "      <th>4</th>\n",
       "      <td>4</td>\n",
       "      <td>square finger ave chase delta trust rodney sig...</td>\n",
       "    </tr>\n",
       "  </tbody>\n",
       "</table>\n",
       "</div>"
      ],
      "text/plain": [
       "   i                                          top_words\n",
       "0  0                        whiting pam problem meeting\n",
       "1  1  linder crawler ancillary log dean iso leaf pet...\n",
       "2  2                                             change\n",
       "3  3  lisk conner brewer shelly benjamin walter mog ...\n",
       "4  4  square finger ave chase delta trust rodney sig..."
      ]
     },
     "execution_count": 86,
     "metadata": {},
     "output_type": "execute_result"
    },
    {
     "name": "stdout",
     "output_type": "stream",
     "text": [
      "time: 8.14 s\n"
     ]
    }
   ],
   "source": [
    "# Get new words an append to df\n",
    "\n",
    "import numpy as np\n",
    "\n",
    "feature_names = np.array(tfidf.get_feature_names())\n",
    "\n",
    "for i in range(text_transformed.shape[0]):\n",
    "    f_index = text_transformed[i,:].nonzero()[1]\n",
    "    tfid_score = zip(f_index,[text_transformed[i,x] for x in f_index])\n",
    "    \n",
    "    word = []\n",
    "    score = []\n",
    "\n",
    "    for w,s in [(feature_names[i],s) for i,s in tfid_score]:\n",
    "        word.append(w)\n",
    "        score.append(s)\n",
    "    score = np.array(score)\n",
    "    word = np.array(word)\n",
    "    txt = \" \".join(word[(-score).argsort()])\n",
    "    data_tfidf.loc[len(data_tfidf)] = [i,txt]\n",
    "\n",
    "data_tfidf.head()"
   ]
  },
  {
   "cell_type": "code",
   "execution_count": 87,
   "metadata": {
    "scrolled": false
   },
   "outputs": [
    {
     "data": {
      "text/html": [
       "<div>\n",
       "<style scoped>\n",
       "    .dataframe tbody tr th:only-of-type {\n",
       "        vertical-align: middle;\n",
       "    }\n",
       "\n",
       "    .dataframe tbody tr th {\n",
       "        vertical-align: top;\n",
       "    }\n",
       "\n",
       "    .dataframe thead th {\n",
       "        text-align: right;\n",
       "    }\n",
       "</style>\n",
       "<table border=\"1\" class=\"dataframe\">\n",
       "  <thead>\n",
       "    <tr style=\"text-align: right;\">\n",
       "      <th></th>\n",
       "      <th>Message-Body</th>\n",
       "      <th>Gender</th>\n",
       "    </tr>\n",
       "  </thead>\n",
       "  <tbody>\n",
       "    <tr>\n",
       "      <th>134081</th>\n",
       "      <td>whiting pam problem meeting</td>\n",
       "      <td>1</td>\n",
       "    </tr>\n",
       "    <tr>\n",
       "      <th>158354</th>\n",
       "      <td>linder crawler ancillary log dean iso leaf pet...</td>\n",
       "      <td>1</td>\n",
       "    </tr>\n",
       "    <tr>\n",
       "      <th>155505</th>\n",
       "      <td>change</td>\n",
       "      <td>1</td>\n",
       "    </tr>\n",
       "    <tr>\n",
       "      <th>117205</th>\n",
       "      <td>lisk conner brewer shelly benjamin walter mog ...</td>\n",
       "      <td>1</td>\n",
       "    </tr>\n",
       "    <tr>\n",
       "      <th>142377</th>\n",
       "      <td>square finger ave chase delta trust rodney sig...</td>\n",
       "      <td>0</td>\n",
       "    </tr>\n",
       "  </tbody>\n",
       "</table>\n",
       "</div>"
      ],
      "text/plain": [
       "                                             Message-Body  Gender\n",
       "134081                        whiting pam problem meeting       1\n",
       "158354  linder crawler ancillary log dean iso leaf pet...       1\n",
       "155505                                             change       1\n",
       "117205  lisk conner brewer shelly benjamin walter mog ...       1\n",
       "142377  square finger ave chase delta trust rodney sig...       0"
      ]
     },
     "execution_count": 87,
     "metadata": {},
     "output_type": "execute_result"
    },
    {
     "name": "stdout",
     "output_type": "stream",
     "text": [
      "time: 8.06 ms\n"
     ]
    }
   ],
   "source": [
    "# Get new words an append to df\n",
    "\n",
    "emails_gender_sample['Message-Body'] = data_tfidf.set_index(emails_gender_sample.index).top_words\n",
    "\n",
    "emails_gender_sample.head()"
   ]
  },
  {
   "cell_type": "code",
   "execution_count": 88,
   "metadata": {},
   "outputs": [
    {
     "data": {
      "text/plain": [
       "(3000, 2)"
      ]
     },
     "execution_count": 88,
     "metadata": {},
     "output_type": "execute_result"
    },
    {
     "name": "stdout",
     "output_type": "stream",
     "text": [
      "time: 2.55 ms\n"
     ]
    }
   ],
   "source": [
    "emails_gender_sample.shape"
   ]
  },
  {
   "cell_type": "code",
   "execution_count": 89,
   "metadata": {},
   "outputs": [
    {
     "name": "stdout",
     "output_type": "stream",
     "text": [
      "time: 3.6 ms\n"
     ]
    }
   ],
   "source": [
    "# Now remove rows that no longer have values \n",
    "\n",
    "emails_gender_sample = emails_gender_sample[ emails_gender_sample['Message-Body'].str.strip() != '']"
   ]
  },
  {
   "cell_type": "code",
   "execution_count": 90,
   "metadata": {},
   "outputs": [
    {
     "data": {
      "text/plain": [
       "(2982, 2)"
      ]
     },
     "execution_count": 90,
     "metadata": {},
     "output_type": "execute_result"
    },
    {
     "name": "stdout",
     "output_type": "stream",
     "text": [
      "time: 2.05 ms\n"
     ]
    }
   ],
   "source": [
    "emails_gender_sample.shape"
   ]
  },
  {
   "cell_type": "code",
   "execution_count": 91,
   "metadata": {},
   "outputs": [
    {
     "name": "stdout",
     "output_type": "stream",
     "text": [
      "time: 691 µs\n"
     ]
    }
   ],
   "source": [
    "# Cut to 1000 rows\n",
    "\n",
    "emails_gender_sample = emails_gender_sample[:1000]"
   ]
  },
  {
   "cell_type": "code",
   "execution_count": 92,
   "metadata": {},
   "outputs": [
    {
     "data": {
      "text/plain": [
       "(1000, 2)"
      ]
     },
     "execution_count": 92,
     "metadata": {},
     "output_type": "execute_result"
    },
    {
     "name": "stdout",
     "output_type": "stream",
     "text": [
      "time: 1.9 ms\n"
     ]
    }
   ],
   "source": [
    "emails_gender_sample.shape"
   ]
  },
  {
   "cell_type": "code",
   "execution_count": 93,
   "metadata": {},
   "outputs": [
    {
     "name": "stdout",
     "output_type": "stream",
     "text": [
      "time: 8.29 ms\n"
     ]
    }
   ],
   "source": [
    "# Create new csv for keras\n",
    "\n",
    "emails_gender_sample.to_csv('genderB.csv', index=False, header=False)"
   ]
  },
  {
   "cell_type": "markdown",
   "metadata": {},
   "source": [
    "#### Compare Logistic Regression w/ and w/o TF-IDF"
   ]
  },
  {
   "cell_type": "code",
   "execution_count": 94,
   "metadata": {},
   "outputs": [
    {
     "name": "stdout",
     "output_type": "stream",
     "text": [
      "email     whiting pam problem meeting\n",
      "label                               1\n",
      "source             enron_gender_tfidf\n",
      "Name: 0, dtype: object\n",
      "time: 16.7 ms\n"
     ]
    }
   ],
   "source": [
    "# Pull in files into df\n",
    "\n",
    "filepath_dict = {'enron_gender':   'data/sentiment_analysis/genderA.csv',\n",
    "                 'enron_gender_tfidf': 'data/sentiment_analysis/genderB.csv'}\n",
    "\n",
    "df_list = []\n",
    "for source, filepath in filepath_dict.items():\n",
    "    df = pd.read_csv(filepath, names=['email', 'label'], sep=',')\n",
    "    df['source'] = source  \n",
    "    df_list.append(df)\n",
    "\n",
    "df = pd.concat(df_list)\n",
    "print(df.iloc[1000])"
   ]
  },
  {
   "cell_type": "code",
   "execution_count": 95,
   "metadata": {},
   "outputs": [
    {
     "name": "stdout",
     "output_type": "stream",
     "text": [
      "time: 8.14 ms\n"
     ]
    }
   ],
   "source": [
    "# Train for just unoptimized data (GenderA)\n",
    "\n",
    "from sklearn.model_selection import train_test_split\n",
    "\n",
    "df_gender = df[df['source'] == 'enron_gender']\n",
    "\n",
    "emails = df_gender['email'].values\n",
    "y = df_gender['label'].values\n",
    "\n",
    "emails_train, emails_test, y_train, y_test = train_test_split(emails, y, test_size=0.25, random_state=1000)"
   ]
  },
  {
   "cell_type": "code",
   "execution_count": 96,
   "metadata": {},
   "outputs": [
    {
     "data": {
      "text/plain": [
       "<750x3110 sparse matrix of type '<class 'numpy.int64'>'\n",
       "\twith 15602 stored elements in Compressed Sparse Row format>"
      ]
     },
     "execution_count": 96,
     "metadata": {},
     "output_type": "execute_result"
    },
    {
     "name": "stdout",
     "output_type": "stream",
     "text": [
      "time: 48.5 ms\n"
     ]
    }
   ],
   "source": [
    "# Extract features\n",
    "\n",
    "from sklearn.feature_extraction.text import CountVectorizer\n",
    "\n",
    "vectorizer = CountVectorizer()\n",
    "vectorizer.fit(emails_train)\n",
    "\n",
    "X_train = vectorizer.transform(emails_train)\n",
    "X_test  = vectorizer.transform(emails_test)\n",
    "X_train"
   ]
  },
  {
   "cell_type": "code",
   "execution_count": 97,
   "metadata": {},
   "outputs": [
    {
     "name": "stdout",
     "output_type": "stream",
     "text": [
      "Accuracy: 0.728\n",
      "time: 7.1 ms\n"
     ]
    }
   ],
   "source": [
    "# Get score for GenderA\n",
    "\n",
    "from sklearn.linear_model import LogisticRegression\n",
    "\n",
    "classifier = LogisticRegression()\n",
    "classifier.fit(X_train, y_train)\n",
    "score = classifier.score(X_test, y_test)\n",
    "\n",
    "print(\"Accuracy:\", score)"
   ]
  },
  {
   "cell_type": "code",
   "execution_count": 98,
   "metadata": {},
   "outputs": [
    {
     "name": "stdout",
     "output_type": "stream",
     "text": [
      "Accuracy for enron_gender data: 0.7280\n",
      "Accuracy for enron_gender_tfidf data: 0.7800\n",
      "time: 95.1 ms\n"
     ]
    }
   ],
   "source": [
    "# Get scores for GenderA and GenderB(TF-IDF Applied)\n",
    "\n",
    "for source in df['source'].unique():\n",
    "    df_source = df[df['source'] == source]\n",
    "    emails = df_source['email'].values\n",
    "    y = df_source['label'].values\n",
    "\n",
    "    emails_train, emails_test, y_train, y_test = train_test_split(\n",
    "        emails, y, test_size=0.25, random_state=1000)\n",
    "\n",
    "    vectorizer = CountVectorizer()\n",
    "    vectorizer.fit(emails_train)\n",
    "    X_train = vectorizer.transform(emails_train)\n",
    "    X_test  = vectorizer.transform(emails_test)\n",
    "\n",
    "    classifier = LogisticRegression()\n",
    "    classifier.fit(X_train, y_train)\n",
    "    score = classifier.score(X_test, y_test)\n",
    "    print('Accuracy for {} data: {:.4f}'.format(source, score))"
   ]
  }
 ],
 "metadata": {
  "kernelspec": {
   "display_name": "Python 3",
   "language": "python",
   "name": "python3"
  },
  "language_info": {
   "codemirror_mode": {
    "name": "ipython",
    "version": 3
   },
   "file_extension": ".py",
   "mimetype": "text/x-python",
   "name": "python",
   "nbconvert_exporter": "python",
   "pygments_lexer": "ipython3",
   "version": "3.7.1"
  }
 },
 "nbformat": 4,
 "nbformat_minor": 2
}
